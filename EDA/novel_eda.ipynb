{
 "cells": [
  {
   "cell_type": "markdown",
   "source": [
    "# 데이터셋으로 사용되는 소설을 분석합니다. 한 라인씩 읽어 들여 글자수 분석, 단어 분석을 수행합니다."
   ],
   "metadata": {}
  },
  {
   "cell_type": "code",
   "execution_count": 1,
   "source": [
    "from collections import Counter\n",
    "import re"
   ],
   "outputs": [],
   "metadata": {}
  },
  {
   "cell_type": "code",
   "execution_count": 2,
   "source": [
    "file = open(\"../../soma/font/webnovel.txt\", \"r\", encoding='utf-8-sig');"
   ],
   "outputs": [],
   "metadata": {}
  },
  {
   "cell_type": "code",
   "execution_count": 3,
   "source": [
    "words = {}\n",
    "chars = {}"
   ],
   "outputs": [],
   "metadata": {}
  },
  {
   "cell_type": "code",
   "execution_count": 4,
   "source": [
    "for line in file:\n",
    "    line = re.sub(r'[■●□┗一-龥流龍䟹ⅡI不『』《》·「」【】―]', '', line) # 한자 제거 및 미사용 문자 제거\n",
    "    for word in re.split(r\"([\\\"\\'\\“\\”\\'\\s])\", line):\n",
    "        \n",
    "        if len(word) >= 10: continue\n",
    "\n",
    "        if words.get(word):\n",
    "            words[word] += 1\n",
    "        else:\n",
    "            words[word] = 1\n",
    "        \n",
    "        for char in word:\n",
    "            if chars.get(char):\n",
    "                chars[char] += 1\n",
    "            else:\n",
    "                chars[char] = 1"
   ],
   "outputs": [],
   "metadata": {}
  },
  {
   "cell_type": "code",
   "execution_count": 5,
   "source": [
    "charCounter = Counter(chars)\n",
    "wordCounter = Counter(words)"
   ],
   "outputs": [],
   "metadata": {}
  },
  {
   "cell_type": "markdown",
   "source": [
    "# 데이터 가공"
   ],
   "metadata": {}
  },
  {
   "cell_type": "code",
   "execution_count": 6,
   "source": [
    "charCounterS = Counter({k: c for  k, c in charCounter.items() if c <= 3})\n",
    "charCounter = Counter({k: c for  k, c in charCounter.items() if c > 3})"
   ],
   "outputs": [],
   "metadata": {}
  },
  {
   "cell_type": "code",
   "execution_count": 7,
   "source": [
    "sum(charCounterS.values()) # 제거된 글자 예측 수.. 419개는 <OOV> 토큰으로 남는다."
   ],
   "outputs": [
    {
     "output_type": "execute_result",
     "data": {
      "text/plain": [
       "419"
      ]
     },
     "metadata": {},
     "execution_count": 7
    }
   ],
   "metadata": {}
  },
  {
   "cell_type": "code",
   "execution_count": 8,
   "source": [
    "del charCounter['\\n']"
   ],
   "outputs": [],
   "metadata": {}
  },
  {
   "cell_type": "code",
   "execution_count": 9,
   "source": [
    "len(charCounter)"
   ],
   "outputs": [
    {
     "output_type": "execute_result",
     "data": {
      "text/plain": [
       "1479"
      ]
     },
     "metadata": {},
     "execution_count": 9
    }
   ],
   "metadata": {}
  },
  {
   "cell_type": "code",
   "execution_count": 10,
   "source": [
    "''.join(sorted(list(charCounter.keys())))"
   ],
   "outputs": [
    {
     "output_type": "execute_result",
     "data": {
      "text/plain": [
       "' !\"#%\\'()*+,-./0123456789:<>?ABCDEFGKLMNOPQRSTUVXYZ[]^acdeghiklmnoprstuvx~–‘’“”…─ㄱㄴㅂㅇㅋㅎ가각간갇갈갉감갑값갓갔강갖갗같갚갛개객갠갯갱갸걀걔걘거걱건걷걸검겁것겉게겐겠겨격겪견결겸겹겼경곁계고곡곤곧골곪곯곰곱곳공과곽관괄광괘괜괴굉교구국군굳굴굵굶굼굽궁궂권궐궤귀귓규균그극근글긁금급긋긍기긱긴길김깁깃깄깊까깍깎깐깔깜깝깟깡깥깨깬깰깻깼깽꺄꺼꺽꺾껄껍껏껐껑께껴꼈꼬꼭꼰꼴꼼꼽꽁꽂꽃꽈꽉꽝꽤꾀꾸꾹꾼꿀꿇꿈꿉꿋꿍꿎꿔꿨꿰뀌뀐뀔끄끅끈끊끌끓끔끗끙끝끼끽낀낄낌낍낑나낙낚난날낡남납낫났낭낮낯낱낳내낸낼냄냅냈냉냐냔냥너넉넋넌널넓넘넝넣네넥넨넬넵넷넸녀녁년념녔녕노녹논놀놈농높놓놔놨뇌뇨누눅눈눌눕눠눴뉘뉜뉴느늑는늘늙늠능늦늪늬니닉닌닐님닙닛닝다닥닦단닫달닭닮닳담답닷당닿대댄댈댑댓댔댕더덕던덜덟덤덥덧덩덮데덴델뎌뎠도독돈돋돌돔돕돗동돼됐되된될됨됩두둑둔둘둠둡둥둬뒀뒈뒤뒷뒹드득든듣들듬듭듯등디딘딛딜딨딩딪따딱딴딸땀땄땅때땐땠땡떠떡떤떨떳떴떵떻떼뗀뗄뗏또똑똘똥똬뚜뚝뚤뚫뚱뛰뛴뛸뜁뜨뜩뜬뜯뜰뜸뜹뜻띄띈띠띤띵라락란랄람랍랏랐랑랗래랙랜램랩랫랬랭략량러럭런럴럼럽럿렀렁렇레렉렌렐렘렛려력련렬렴렵렷렸령례로록론롤롭롯롱롸뢰료룡루룩룬룰룸룹룻뤄류륙륜률륭르륵른를름릅릇릉릎리릭린릴림립릿링마막만많말맑맘맙맛망맞맡맣매맥맨맴맵맸맹맺머먹먼멀멈멋멍멎멓메멘멜멤멩며멱면멸명몇모목몫몬몰몸몹못몽뫼묘묠무묵묶문묻물뭇뭉뭍뭐뭔뭘뭡뭣뮤뮨뮬므미민믿밀밌밍및밑바박밖반받발밝밟밤밥밧방밭배백밸뱀뱃뱅뱉버벅번벌범법벗벙베벤벨벼벽변별볍볐병볕보복볶본볼봄봅봇봉봐봤봬뵈뵙부북분불붉붐붓붕붙뷔뷰브블비빅빈빌빕빗빙빚빛빠빡빤빨빳빴빵빼빽뺄뺏뺨뻐뻑뻔뻗뻘뻣뻥뼈뼘뼛뽀뽐뽑뽕뾰뿅뿌뿐뿔뿜쁘쁜쁠쁨삐삑사삭산살삶삼삽삿샀상샅새색샌샐샘샛생샤서석섞선섣설섬섭섯섰성세센셀셈셉셋셔션셨셰소속손솔솜솟송쇄쇠쇼숑수숙순숟술숨숫숭숲숴쉈쉬쉰쉴쉽쉿슈슉슛스슥슨슬슴습슷승시식신실싫심십싯싱싶싸싹싼쌀쌌쌍쌓쌘써썩썰썹썼썽쎄쏘쏙쏜쏟쏠쏴쐐쑤쑥쓰쓱쓴쓸씀씁씌씨씩씬씸씹씻아악안앉않알앓암압앗았앙앞애액앤앨앰앱야약얀얄얇얌양얕얗얘얜어억언얹얻얼얽엄업없엇었엉엎에엑엔엘엣엥여역엮연열염엽엾엿였영옅옆옇예옙옛오옥온올옭옮옳옴옵옷옹와왁완왈왓왔왕왜왠왱외왼요욕용우욱운울움웁웃웅워원월웠웨웩웬웹위윈윌윗윙유육윤율융으윽은을읊음읍읏응의이익인일읽잃임입잇있잉잊잎자작잔잖잘잠잡잣잤장잦재잴잼잽잿쟁쟤쟨저적전절젊점접젓정젖제젝젠젯져졌조족존졸좀좁종좆좇좋좌죄죗죠주죽준줄줌줍중줘줬쥐쥔쥘쥡즈즉즌즐즘즙증지직진질짊짐집짓징짖짙짚짜짝짠짤짧짬짭짱째쨌쨍쩌쩍쩐쩔쩡쪼쪽쫄쫓쬐쭈쭉쭤쯤쯧찌찍찔찜찝찡찢찧차착찬찮찰참찹찻찼창찾채책챈챌챘챙처척천철첨첩첫청체첸쳇쳐쳤초촉촌총촤촬최쵸추축춘출춤춥충춰췄취츠측츨츰츳층치칙친칠침칩칫칭카칵칸칼캄캐캔캠캡캬커컥컨컫컬컴컷컸컹케켄켈켓켜켠켰코콕콘콜콤콥콧콩콰콱콸쾅쾌쿄쿠쿡쿨쿵퀀퀘퀴퀸큐크큭큰클큼큿킁키킥킨킬킴킵킷킹타탁탄탈탐탑탓탔탕태택탰탱터턱턴털텀텁텅테텍텐텔템텨텼토톡톤톰톱톳통퇴투툭툰툴툼퉁퉤튀튄튈튕튜트특튼틀틈틋틔티틱틴틸팀팁팅파팍판팔팝팟팠팡패팩팬팻팽퍼퍽펀펄펐펑페펙펜펠펫펴편펼폈평폐포폭폰폴폼표푸푹푼풀품풋풍퓨프픈플픔피픽핀필핍핏핑하학한할핥함합핫항해핵햄햇했행향허헉헌헐험헛헝헤헥헬헴헷혀혁현혈혐협혓혔형혜호혹혼홀홈홉홍화확환활황홰홱횃회획횟횡효후훅훈훌훑훔훗훤훨훼휑휘휩휴흉흐흑흔흘흙흠흡흣흥흩희흰흴히힌힐힘힙'"
      ]
     },
     "metadata": {},
     "execution_count": 10
    }
   ],
   "metadata": {}
  },
  {
   "cell_type": "code",
   "execution_count": 16,
   "source": [
    "import pandas as pd"
   ],
   "outputs": [],
   "metadata": {}
  },
  {
   "cell_type": "code",
   "execution_count": 11,
   "source": [
    "all_list = list(wordCounter.keys())\n",
    "len(all_list)"
   ],
   "outputs": [
    {
     "output_type": "execute_result",
     "data": {
      "text/plain": [
       "135404"
      ]
     },
     "metadata": {},
     "execution_count": 11
    }
   ],
   "metadata": {}
  },
  {
   "cell_type": "code",
   "execution_count": 13,
   "source": [
    "train_dict = all_list[0:int(len(all_list) * 0.8) ]\n",
    "val_dict = all_list[int(len(all_list) * 0.8) :int(len(all_list) * 0.9) ]\n",
    "test_dict = all_list[int(len(all_list) * 0.9) :len(all_list)]"
   ],
   "outputs": [],
   "metadata": {}
  },
  {
   "cell_type": "code",
   "execution_count": 14,
   "source": [
    "print(f\"train_dict :{len(train_dict)}\\nval_dict : {len(val_dict)}\\ntest_dict: {len(test_dict)}\")"
   ],
   "outputs": [
    {
     "output_type": "stream",
     "name": "stdout",
     "text": [
      "train_dict :108323\n",
      "val_dict : 13540\n",
      "test_dict: 13541\n"
     ]
    }
   ],
   "metadata": {}
  },
  {
   "cell_type": "code",
   "execution_count": 18,
   "source": [
    "df_tr = pd.Series(train_dict)\n",
    "df_val = pd.Series(val_dict)\n",
    "df_test = pd.Series(test_dict)"
   ],
   "outputs": [],
   "metadata": {}
  },
  {
   "cell_type": "code",
   "execution_count": 20,
   "source": [
    "df_tr.to_csv('train_dict.txt', index=False)\n",
    "df_val.to_csv('val_dict.txt', index=False)\n",
    "df_test.to_csv('test_dict.txt', index=False)"
   ],
   "outputs": [],
   "metadata": {}
  },
  {
   "cell_type": "code",
   "execution_count": null,
   "source": [],
   "outputs": [],
   "metadata": {}
  }
 ],
 "metadata": {
  "orig_nbformat": 4,
  "language_info": {
   "name": "python",
   "version": "3.7.10",
   "mimetype": "text/x-python",
   "codemirror_mode": {
    "name": "ipython",
    "version": 3
   },
   "pygments_lexer": "ipython3",
   "nbconvert_exporter": "python",
   "file_extension": ".py"
  },
  "kernelspec": {
   "name": "python3",
   "display_name": "Python 3.7.10 64-bit ('soma-ai_serv': conda)"
  },
  "interpreter": {
   "hash": "c858d8e8953976857c530f4a8e572b196dc657137b64183d7c161f41d0f36d45"
  }
 },
 "nbformat": 4,
 "nbformat_minor": 2
}