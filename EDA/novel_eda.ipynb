{
 "cells": [
  {
   "cell_type": "markdown",
   "source": [
    "# 데이터셋으로 사용되는 소설을 분석합니다. 한 라인씩 읽어 들여 글자수 분석, 단어 분석을 수행합니다."
   ],
   "metadata": {}
  },
  {
   "cell_type": "code",
   "execution_count": null,
   "source": [
    "file = open(\"../soma/font/wetnovel.txt\", \"w\");"
   ],
   "outputs": [],
   "metadata": {}
  },
  {
   "cell_type": "code",
   "execution_count": null,
   "source": [],
   "outputs": [],
   "metadata": {}
  }
 ],
 "metadata": {
  "orig_nbformat": 4,
  "language_info": {
   "name": "python"
  }
 },
 "nbformat": 4,
 "nbformat_minor": 2
}