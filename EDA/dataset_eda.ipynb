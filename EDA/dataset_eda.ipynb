{
 "cells": [
  {
   "cell_type": "markdown",
   "source": [
    "# 생성된 데이터셋을 분석해 봅니다.\n"
   ],
   "metadata": {}
  },
  {
   "cell_type": "code",
   "execution_count": 2,
   "source": [
    "import os\n",
    "from pathlib import Path\n",
    "from collections import Counter"
   ],
   "outputs": [],
   "metadata": {}
  },
  {
   "cell_type": "code",
   "execution_count": 3,
   "source": [
    "val_data_path = Path('../../soma/font/dataset/val_dict/')\n",
    "test_data_path = Path('../../soma/font/dataset/test_dict/')\n",
    "train_data_path = Path('../../soma/font/dataset/train_dict/')\n",
    "\n",
    "train_small_data_path = Path('../../soma/font/dataset/train_dict_small/')\n",
    "val_small_data_path = Path('../../soma/font/dataset/val_dict_small/')"
   ],
   "outputs": [],
   "metadata": {}
  },
  {
   "cell_type": "code",
   "execution_count": 4,
   "source": [
    "val_data = [''.join(x.split('_')[:-1]) for x in os.listdir(val_data_path)]\n",
    "test_data = [''.join(x.split('_')[:-1]) for x in os.listdir(test_data_path)]\n",
    "train_data = [''.join(x.split('_')[:-1]) for x in os.listdir(train_data_path)]\n",
    "\n",
    "train_small_data = [''.join(x.split('_')[:-1]) for x in os.listdir(train_small_data_path)]\n",
    "val_small_data = [''.join(x.split('_')[:-1]) for x in os.listdir(val_small_data_path)]"
   ],
   "outputs": [],
   "metadata": {}
  },
  {
   "cell_type": "code",
   "execution_count": 5,
   "source": [
    "valCounter = Counter(val_data)\n",
    "testCounter = Counter(test_data)\n",
    "trainCounter = Counter(train_data)\n",
    "\n",
    "trainSmallCounter = Counter(train_small_data)\n",
    "valSmallCounter = Counter(val_small_data)"
   ],
   "outputs": [],
   "metadata": {}
  },
  {
   "cell_type": "code",
   "execution_count": 6,
   "source": [
    "print(f\"validation data total : {len(valCounter.keys())}\")\n",
    "print(f\"Test data total : {len(testCounter.keys())}\")\n",
    "print(f\"train data total : {len(trainCounter.keys())}\")\n",
    "print(f\"train small data total : {len(trainSmallCounter.keys())}\")\n",
    "print(f\"validation small data total : {len(valSmallCounter.keys())}\")"
   ],
   "outputs": [
    {
     "output_type": "stream",
     "name": "stdout",
     "text": [
      "validation data total : 13521\n",
      "Test data total : 13524\n",
      "train data total : 108286\n",
      "train small data total : 36783\n",
      "validation small data total : 13010\n"
     ]
    }
   ],
   "metadata": {}
  },
  {
   "cell_type": "code",
   "execution_count": 11,
   "source": [
    "wordCounter = Counter([c for word in train_data for c in word ])\n",
    "len(wordCounter)"
   ],
   "outputs": [
    {
     "output_type": "execute_result",
     "data": {
      "text/plain": [
       "1669"
      ]
     },
     "metadata": {},
     "execution_count": 11
    }
   ],
   "metadata": {}
  },
  {
   "cell_type": "code",
   "execution_count": 12,
   "source": [
    "charCounterS = Counter({k: c for  k, c in wordCounter.items() if c <= 3})\n",
    "charCounter = Counter({k: c for  k, c in wordCounter.items() if c > 3})"
   ],
   "outputs": [],
   "metadata": {}
  },
  {
   "cell_type": "code",
   "execution_count": 17,
   "source": [
    "''.join(sorted(list(charCounter.keys())))"
   ],
   "outputs": [
    {
     "output_type": "execute_result",
     "data": {
      "text/plain": [
       "\" !#$%&'()*+,-.0123456789:<>?ABCDEFGKLMNOPQRSTUVXYZ[]^abcdefghiklmnoprstuvxy~вилнᄄᆞ–‘’“”Ⅰ─★☆♡\\u3000ㄱㄴㄹㅂㅅㅆㅇㅈㅉㅋㅎㅔㅠ㦕가각간갇갈갉감갑값갓갔강갖갗같갚갛개객갠갤갭갯갱갸걀걍걔걘걜거걱건걷걸검겁것겄겉겋게겐겠겨격겪견결겸겹겼경곁계곗고곡곤곧골곪곬곯곰곱곳공과곽관괄광괘괜괭괴괸굉교구국군굳굴굵굶굼굽궁궂궈권궐궤귀귄귓규균귤그극근글긁금급긋긍기긱긴길김깁깃깄깊까깍깎깐깔깜깝깟깠깡깥깨깬깰깻깼깽꺄꺅꺼꺽꺾껄껌껍껏껐껑께껭껴꼈꼬꼭꼰꼴꼼꼽꼿꽁꽂꽃꽈꽉꽝꽤꾀꾄꾐꾸꾹꾼꿀꿇꿈꿉꿋꿍꿎꿔꿨꿰꿴뀌뀐뀔뀝뀨끄끅끈끊끌끓끔끕끗끙끝끼끽낀낄낌낍낏낑나낙낚난날낡남납낫났낭낮낯낱낳내낸낼냄냅냈냉냐냔냥너넉넋넌널넓넘넜넝넣네넥넨넬넴넵넷넸녀녁년념녔녕녘노녹논놀놈농높놓놔놨뇌뇨누눅눈눌눔눕눠눴뉘뉜뉴늉느늑는늘늙늠능늦늪늬니닉닌닐님닙닛닝다닥닦단닫달닭닮닳담답닷당닼닿대댄댈댐댑댓댔댕더덕던덜덟덤덥덧덩덮데덴델뎌뎠도독돈돋돌돔돕돗동돛돼됐되된될됨됩두둑둔둘둠둡둣둥둬뒀뒈뒤뒷뒹드득든듣들듦듬듭듯등디딕딘딛딜딤딥딧딨딩딪따딱딴딸땀땄땅때땐땜땟땠땡떠떡떤떨떱떳떴떵떻떼떽뗀뗏뗐또똑똘똥똬뚜뚝뚤뚫뚱뛰뛴뛸뜁뜨뜩뜬뜯뜰뜸뜹뜻띄띈띌띔띠띤띵라락란랄람랍랏랐랑랖랗래랙랜랠램랩랫랬랭랴략량러럭런럴럼럽럿렀렁렇레렉렌렐렘렛려력련렬렴렵렷렸령례로록론롤롬롭롯롱롸뢰료룡루룩룬룰룸룹룻룽뤄뤘뤼류륙륜률륨륭르륵른를름릅릇릉릎리릭린릴림립릿링마막만많말맑맘맙맛망맞맡맣매맥맨맴맵맷맸맹맺머먹먼멀멈멋멍멎멓메멘멜멤멧멨멩며멱면멸몄명몇모목몫몬몰몸몹못몽뫼묘묠무묵묶문묻물묾뭅뭇뭉뭍뭐뭔뭘뭡뭣뮤뮨뮬므믓미믹민믿밀밉밋밌밍및밑바박밖반받발밝밟밤밥밧방밭배백밴밸뱀뱁뱃뱅뱉버벅번벌범법벗벙벚베벤벨벳벵벼벽변별볍볏볐병볕보복볶본볼봄봅봇봉봐봤봬뵈뵐뵙부북분불붉붐붓붕붙뷔뷰븅브븐블비빅빈빌빕빗빙빚빛빠빡빤빨빱빳빴빵빻빼빽뺀뺄뺌뺏뺐뺨뻐뻑뻔뻗뻘뻣뻤뻥뼈뼉뼘뼛뽀뽐뽑뽕뾰뿅뿌뿐뿔뿜쀼쁘쁜쁠쁨쁩삐삑사삭산살삶삼삽삿샀상샅새색샌샐샘샛생샤샵샹서석섞선섣설섬섭섯섰성섶세섹센셀셈셉셋셌셔션셜셨셰셸소속손솔솜솟송쇄쇠쇳쇼숑수숙순숟술숨숫숭숯숲숴쉈쉬쉰쉴쉽쉿슈슉슛스슥슨슬슴습슷승시식신싣실싫심십싯싱싶싸싹싼쌀쌌쌍쌓쌔쌘써썩썰썸썹썼썽쎄쏘쏙쏜쏟쏠쏴쐐쐬쐰쑤쑥쓰쓱쓴쓸씀씁씌씨씩씬씰씸씹씻아악안앉않알앓암압앗았앙앞애액앤앨앰앱앳앵야약얀얄얇얌얍양얕얗얘얜어억언얹얻얼얽엄업없엇었엉엊엌엎에엑엔엘엣여역엮연열엷염엽엾엿였영옅옆옇예옙옛오옥온올옭옮옳옴옵옷옸옹와왁완왈왓왔왕왜왠왱외왼요욕욘용우욱운울움웁웃웅워원월웠웨웩웬웹위윈윌윗윙유육윤율융으윽은을읇읊음읍읏응의이익인일읽잃임입잇있잉잊잎자작잔잖잘잠잡잣잤장잦재잭잰잴잼잽잿쟁쟤쟨저적전절젊점접젓정젖제젝젠젭젯져졌조족존졸좀좁종좆좇좋좌죄죗죠주죽준줄줌줍줏중줘줬쥐쥔쥘쥡즈즉즌즐즘즙증지직진질짊짐집짓징짖짘짙짚짜짝짠짢짤짧짬짭짰짱째짼쨌쨍쩌쩍쩐쩔쩝쩡쩨쪄쪘쪼쪽쫀쫄쫌쫑쫓쫙쬐쭈쭉쭐쭤쯤쯧찌찍찐찔찜찝찡찢찧차착찬찮찰참찹찻찼창찾채책챈챌챕챘챙처척천철첨첩첫청체첸쳇쳐쳤초촉촌촐촘총촤촬최쵸추축춘출춤춥충춰췄췌취츠측츨츰츳층치칙친칠침칩칫칭카칵칸칼캄캐캘캠캡캬커컥컨컫컬컴컵컷컸컹케켄켈켓켜켠켤켰코콕콘콜콤콥콧콩콰콱콸쾅쾌쿄쿠쿡쿨쿵퀄퀘퀭퀴퀸큐크큭큰클큼큽큿킁키킥킨킬킴킵킷킹타탁탄탈탐탑탓탔탕태택탠탤탬탯탰탱터턱턴털텀텁텄텅테텍텐텔템텝텨텼토톡톤톨톰톱톳통퇴투툭툰툴툼퉁퉈퉜퉤퉷튀튄튈튕튜튬트특튼틀틈틋틔티틱틴틸팀팅파팍팎판팔팝팟팠팡패팩팬팸팻팼팽퍼퍽펀펄펌펐펑페펙펜펠펫펴편펼폅폈평폐포폭폰폴폼퐁표푯푸푹푼풀품풋풍퓨프픈플픔픕피픽핀필핌핍핏핑하학한할핥함합핫항해핵핸핼햄햇했행햐향허헉헌헐험헙헛헝헤헥헨헬헴헷혀혁현혈혐협혓혔형혜호혹혼홀홈홉홍화확환활홧황홰홱횃회획횓횟횡효후훅훈훌훑훔훗훤훼휑휘휙휩휴흉흐흑흔흘흙흠흡흣흥흩희흰흴히힌힐힘힙힛힝金螺爐祿廉靈理\""
      ]
     },
     "metadata": {},
     "execution_count": 17
    }
   ],
   "metadata": {}
  },
  {
   "cell_type": "code",
   "execution_count": 19,
   "source": [
    "target = ' !\"#%\\'()*+,-./0123456789:<>?ABCDEFGKLMNOPQRSTUVXYZ[]^acdeghiklmnoprstuvx~–‘’“”…─ㄱㄴㅂㅇㅋㅎ가각간갇갈갉감갑값갓갔강갖갗같갚갛개객갠갯갱갸걀걔걘거걱건걷걸검겁것겉게겐겠겨격겪견결겸겹겼경곁계고곡곤곧골곪곯곰곱곳공과곽관괄광괘괜괴굉교구국군굳굴굵굶굼굽궁궂권궐궤귀귓규균그극근글긁금급긋긍기긱긴길김깁깃깄깊까깍깎깐깔깜깝깟깡깥깨깬깰깻깼깽꺄꺼꺽꺾껄껍껏껐껑께껴꼈꼬꼭꼰꼴꼼꼽꽁꽂꽃꽈꽉꽝꽤꾀꾸꾹꾼꿀꿇꿈꿉꿋꿍꿎꿔꿨꿰뀌뀐뀔끄끅끈끊끌끓끔끗끙끝끼끽낀낄낌낍낑나낙낚난날낡남납낫났낭낮낯낱낳내낸낼냄냅냈냉냐냔냥너넉넋넌널넓넘넝넣네넥넨넬넵넷넸녀녁년념녔녕노녹논놀놈농높놓놔놨뇌뇨누눅눈눌눕눠눴뉘뉜뉴느늑는늘늙늠능늦늪늬니닉닌닐님닙닛닝다닥닦단닫달닭닮닳담답닷당닿대댄댈댑댓댔댕더덕던덜덟덤덥덧덩덮데덴델뎌뎠도독돈돋돌돔돕돗동돼됐되된될됨됩두둑둔둘둠둡둥둬뒀뒈뒤뒷뒹드득든듣들듬듭듯등디딘딛딜딨딩딪따딱딴딸땀땄땅때땐땠땡떠떡떤떨떳떴떵떻떼뗀뗄뗏또똑똘똥똬뚜뚝뚤뚫뚱뛰뛴뛸뜁뜨뜩뜬뜯뜰뜸뜹뜻띄띈띠띤띵라락란랄람랍랏랐랑랗래랙랜램랩랫랬랭략량러럭런럴럼럽럿렀렁렇레렉렌렐렘렛려력련렬렴렵렷렸령례로록론롤롭롯롱롸뢰료룡루룩룬룰룸룹룻뤄류륙륜률륭르륵른를름릅릇릉릎리릭린릴림립릿링마막만많말맑맘맙맛망맞맡맣매맥맨맴맵맸맹맺머먹먼멀멈멋멍멎멓메멘멜멤멩며멱면멸명몇모목몫몬몰몸몹못몽뫼묘묠무묵묶문묻물뭇뭉뭍뭐뭔뭘뭡뭣뮤뮨뮬므미민믿밀밌밍및밑바박밖반받발밝밟밤밥밧방밭배백밸뱀뱃뱅뱉버벅번벌범법벗벙베벤벨벼벽변별볍볐병볕보복볶본볼봄봅봇봉봐봤봬뵈뵙부북분불붉붐붓붕붙뷔뷰브블비빅빈빌빕빗빙빚빛빠빡빤빨빳빴빵빼빽뺄뺏뺨뻐뻑뻔뻗뻘뻣뻥뼈뼘뼛뽀뽐뽑뽕뾰뿅뿌뿐뿔뿜쁘쁜쁠쁨삐삑사삭산살삶삼삽삿샀상샅새색샌샐샘샛생샤서석섞선섣설섬섭섯섰성세센셀셈셉셋셔션셨셰소속손솔솜솟송쇄쇠쇼숑수숙순숟술숨숫숭숲숴쉈쉬쉰쉴쉽쉿슈슉슛스슥슨슬슴습슷승시식신실싫심십싯싱싶싸싹싼쌀쌌쌍쌓쌘써썩썰썹썼썽쎄쏘쏙쏜쏟쏠쏴쐐쑤쑥쓰쓱쓴쓸씀씁씌씨씩씬씸씹씻아악안앉않알앓암압앗았앙앞애액앤앨앰앱야약얀얄얇얌양얕얗얘얜어억언얹얻얼얽엄업없엇었엉엎에엑엔엘엣엥여역엮연열염엽엾엿였영옅옆옇예옙옛오옥온올옭옮옳옴옵옷옹와왁완왈왓왔왕왜왠왱외왼요욕용우욱운울움웁웃웅워원월웠웨웩웬웹위윈윌윗윙유육윤율융으윽은을읊음읍읏응의이익인일읽잃임입잇있잉잊잎자작잔잖잘잠잡잣잤장잦재잴잼잽잿쟁쟤쟨저적전절젊점접젓정젖제젝젠젯져졌조족존졸좀좁종좆좇좋좌죄죗죠주죽준줄줌줍중줘줬쥐쥔쥘쥡즈즉즌즐즘즙증지직진질짊짐집짓징짖짙짚짜짝짠짤짧짬짭짱째쨌쨍쩌쩍쩐쩔쩡쪼쪽쫄쫓쬐쭈쭉쭤쯤쯧찌찍찔찜찝찡찢찧차착찬찮찰참찹찻찼창찾채책챈챌챘챙처척천철첨첩첫청체첸쳇쳐쳤초촉촌총촤촬최쵸추축춘출춤춥충춰췄취츠측츨츰츳층치칙친칠침칩칫칭카칵칸칼캄캐캔캠캡캬커컥컨컫컬컴컷컸컹케켄켈켓켜켠켰코콕콘콜콤콥콧콩콰콱콸쾅쾌쿄쿠쿡쿨쿵퀀퀘퀴퀸큐크큭큰클큼큿킁키킥킨킬킴킵킷킹타탁탄탈탐탑탓탔탕태택탰탱터턱턴털텀텁텅테텍텐텔템텨텼토톡톤톰톱톳통퇴투툭툰툴툼퉁퉤튀튄튈튕튜트특튼틀틈틋틔티틱틴틸팀팁팅파팍판팔팝팟팠팡패팩팬팻팽퍼퍽펀펄펐펑페펙펜펠펫펴편펼폈평폐포폭폰폴폼표푸푹푼풀품풋풍퓨프픈플픔피픽핀필핍핏핑하학한할핥함합핫항해핵햄햇했행향허헉헌헐험헛헝헤헥헬헴헷혀혁현혈혐협혓혔형혜호혹혼홀홈홉홍화확환활황홰홱횃회획횟횡효후훅훈훌훑훔훗훤훨훼휑휘휩휴흉흐흑흔흘흙흠흡흣흥흩희흰흴히힌힐힘힙'"
   ],
   "outputs": [],
   "metadata": {}
  },
  {
   "cell_type": "code",
   "execution_count": 30,
   "source": [
    "charCase = 0 # 버려지는 글자 종류\n",
    "charCount = 0 # 학습 데이터셋에서 버려지는 글자가 총 몇 번 나올지\n",
    "\n",
    "for i in wordCounter.keys():\n",
    "    if i not in target:\n",
    "        charCase += 1\n",
    "        charCount += wordCounter[i]"
   ],
   "outputs": [],
   "metadata": {}
  },
  {
   "cell_type": "code",
   "execution_count": 32,
   "source": [
    "print(f\"버려지는 글자 종류 : {charCase}\")\n",
    "print(f\"이 글자가 데이터셋에 없는 수 : {charCount}\")"
   ],
   "outputs": [
    {
     "output_type": "stream",
     "name": "stdout",
     "text": [
      "버려지는 글자 종류 : 197\n",
      "이 글자가 데이터셋에 없는 수 : 2356\n"
     ]
    }
   ],
   "metadata": {}
  },
  {
   "cell_type": "code",
   "execution_count": 33,
   "source": [
    "len(target)"
   ],
   "outputs": [
    {
     "output_type": "execute_result",
     "data": {
      "text/plain": [
       "1479"
      ]
     },
     "metadata": {},
     "execution_count": 33
    }
   ],
   "metadata": {}
  },
  {
   "cell_type": "code",
   "execution_count": null,
   "source": [],
   "outputs": [],
   "metadata": {}
  }
 ],
 "metadata": {
  "orig_nbformat": 4,
  "language_info": {
   "name": "python",
   "version": "3.7.11",
   "mimetype": "text/x-python",
   "codemirror_mode": {
    "name": "ipython",
    "version": 3
   },
   "pygments_lexer": "ipython3",
   "nbconvert_exporter": "python",
   "file_extension": ".py"
  },
  "kernelspec": {
   "name": "python3",
   "display_name": "Python 3.7.11 64-bit ('soma-recognition-new': conda)"
  },
  "interpreter": {
   "hash": "d2be4ac5b3b89d3f66e21eb17e710f24c12a1c85aba19471eb29ac484714b9dd"
  }
 },
 "nbformat": 4,
 "nbformat_minor": 2
}