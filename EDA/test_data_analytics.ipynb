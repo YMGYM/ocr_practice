{
 "cells": [
  {
   "cell_type": "markdown",
   "source": [
    "# 학습 완료된 AI 모델의 정확도를 확인해 봅니다."
   ],
   "metadata": {}
  },
  {
   "cell_type": "markdown",
   "source": [
    "## 학습 데이터와 완전 동일한 분포의 데이터셋\n"
   ],
   "metadata": {}
  },
  {
   "cell_type": "code",
   "execution_count": 1,
   "source": [
    "import pandas as pd\n",
    "from collections import Counter\n",
    "import matplotlib.pyplot as plt\n",
    "import numpy as np"
   ],
   "outputs": [],
   "metadata": {}
  },
  {
   "cell_type": "code",
   "execution_count": 2,
   "source": [
    "target_text = ' !\"#%\\'()*+,-./0123456789:<>?ABCDEFGKLMNOPQRSTUVXYZ[]^acdeghiklmnoprstuvx~–‘’“”…─ㄱㄴㅂㅇㅋㅎ가각간갇갈갉감갑값갓갔강갖갗같갚갛개객갠갯갱갸걀걔걘거걱건걷걸검겁것겉게겐겠겨격겪견결겸겹겼경곁계고곡곤곧골곪곯곰곱곳공과곽관괄광괘괜괴굉교구국군굳굴굵굶굼굽궁궂권궐궤귀귓규균그극근글긁금급긋긍기긱긴길김깁깃깄깊까깍깎깐깔깜깝깟깡깥깨깬깰깻깼깽꺄꺼꺽꺾껄껍껏껐껑께껴꼈꼬꼭꼰꼴꼼꼽꽁꽂꽃꽈꽉꽝꽤꾀꾸꾹꾼꿀꿇꿈꿉꿋꿍꿎꿔꿨꿰뀌뀐뀔끄끅끈끊끌끓끔끗끙끝끼끽낀낄낌낍낑나낙낚난날낡남납낫났낭낮낯낱낳내낸낼냄냅냈냉냐냔냥너넉넋넌널넓넘넝넣네넥넨넬넵넷넸녀녁년념녔녕노녹논놀놈농높놓놔놨뇌뇨누눅눈눌눕눠눴뉘뉜뉴느늑는늘늙늠능늦늪늬니닉닌닐님닙닛닝다닥닦단닫달닭닮닳담답닷당닿대댄댈댑댓댔댕더덕던덜덟덤덥덧덩덮데덴델뎌뎠도독돈돋돌돔돕돗동돼됐되된될됨됩두둑둔둘둠둡둥둬뒀뒈뒤뒷뒹드득든듣들듬듭듯등디딘딛딜딨딩딪따딱딴딸땀땄땅때땐땠땡떠떡떤떨떳떴떵떻떼뗀뗄뗏또똑똘똥똬뚜뚝뚤뚫뚱뛰뛴뛸뜁뜨뜩뜬뜯뜰뜸뜹뜻띄띈띠띤띵라락란랄람랍랏랐랑랗래랙랜램랩랫랬랭략량러럭런럴럼럽럿렀렁렇레렉렌렐렘렛려력련렬렴렵렷렸령례로록론롤롭롯롱롸뢰료룡루룩룬룰룸룹룻뤄류륙륜률륭르륵른를름릅릇릉릎리릭린릴림립릿링마막만많말맑맘맙맛망맞맡맣매맥맨맴맵맸맹맺머먹먼멀멈멋멍멎멓메멘멜멤멩며멱면멸명몇모목몫몬몰몸몹못몽뫼묘묠무묵묶문묻물뭇뭉뭍뭐뭔뭘뭡뭣뮤뮨뮬므미민믿밀밌밍및밑바박밖반받발밝밟밤밥밧방밭배백밸뱀뱃뱅뱉버벅번벌범법벗벙베벤벨벼벽변별볍볐병볕보복볶본볼봄봅봇봉봐봤봬뵈뵙부북분불붉붐붓붕붙뷔뷰브블비빅빈빌빕빗빙빚빛빠빡빤빨빳빴빵빼빽뺄뺏뺨뻐뻑뻔뻗뻘뻣뻥뼈뼘뼛뽀뽐뽑뽕뾰뿅뿌뿐뿔뿜쁘쁜쁠쁨삐삑사삭산살삶삼삽삿샀상샅새색샌샐샘샛생샤서석섞선섣설섬섭섯섰성세센셀셈셉셋셔션셨셰소속손솔솜솟송쇄쇠쇼숑수숙순숟술숨숫숭숲숴쉈쉬쉰쉴쉽쉿슈슉슛스슥슨슬슴습슷승시식신실싫심십싯싱싶싸싹싼쌀쌌쌍쌓쌘써썩썰썹썼썽쎄쏘쏙쏜쏟쏠쏴쐐쑤쑥쓰쓱쓴쓸씀씁씌씨씩씬씸씹씻아악안앉않알앓암압앗았앙앞애액앤앨앰앱야약얀얄얇얌양얕얗얘얜어억언얹얻얼얽엄업없엇었엉엎에엑엔엘엣엥여역엮연열염엽엾엿였영옅옆옇예옙옛오옥온올옭옮옳옴옵옷옹와왁완왈왓왔왕왜왠왱외왼요욕용우욱운울움웁웃웅워원월웠웨웩웬웹위윈윌윗윙유육윤율융으윽은을읊음읍읏응의이익인일읽잃임입잇있잉잊잎자작잔잖잘잠잡잣잤장잦재잴잼잽잿쟁쟤쟨저적전절젊점접젓정젖제젝젠젯져졌조족존졸좀좁종좆좇좋좌죄죗죠주죽준줄줌줍중줘줬쥐쥔쥘쥡즈즉즌즐즘즙증지직진질짊짐집짓징짖짙짚짜짝짠짤짧짬짭짱째쨌쨍쩌쩍쩐쩔쩡쪼쪽쫄쫓쬐쭈쭉쭤쯤쯧찌찍찔찜찝찡찢찧차착찬찮찰참찹찻찼창찾채책챈챌챘챙처척천철첨첩첫청체첸쳇쳐쳤초촉촌총촤촬최쵸추축춘출춤춥충춰췄취츠측츨츰츳층치칙친칠침칩칫칭카칵칸칼캄캐캔캠캡캬커컥컨컫컬컴컷컸컹케켄켈켓켜켠켰코콕콘콜콤콥콧콩콰콱콸쾅쾌쿄쿠쿡쿨쿵퀀퀘퀴퀸큐크큭큰클큼큿킁키킥킨킬킴킵킷킹타탁탄탈탐탑탓탔탕태택탰탱터턱턴털텀텁텅테텍텐텔템텨텼토톡톤톰톱톳통퇴투툭툰툴툼퉁퉤튀튄튈튕튜트특튼틀틈틋틔티틱틴틸팀팁팅파팍판팔팝팟팠팡패팩팬팻팽퍼퍽펀펄펐펑페펙펜펠펫펴편펼폈평폐포폭폰폴폼표푸푹푼풀품풋풍퓨프픈플픔피픽핀필핍핏핑하학한할핥함합핫항해핵햄햇했행향허헉헌헐험헛헝헤헥헬헴헷혀혁현혈혐협혓혔형혜호혹혼홀홈홉홍화확환활황홰홱횃회획횟횡효후훅훈훌훑훔훗훤훨훼휑휘휩휴흉흐흑흔흘흙흠흡흣흥흩희흰흴히힌힐힘힙'"
   ],
   "outputs": [],
   "metadata": {}
  },
  {
   "cell_type": "code",
   "execution_count": 3,
   "source": [
    "df = pd.read_csv(\"../result_test_small.csv\", index_col=0)\n",
    "df.head()"
   ],
   "outputs": [
    {
     "output_type": "execute_result",
     "data": {
      "text/html": [
       "<div>\n",
       "<style scoped>\n",
       "    .dataframe tbody tr th:only-of-type {\n",
       "        vertical-align: middle;\n",
       "    }\n",
       "\n",
       "    .dataframe tbody tr th {\n",
       "        vertical-align: top;\n",
       "    }\n",
       "\n",
       "    .dataframe thead th {\n",
       "        text-align: right;\n",
       "    }\n",
       "</style>\n",
       "<table border=\"1\" class=\"dataframe\">\n",
       "  <thead>\n",
       "    <tr style=\"text-align: right;\">\n",
       "      <th></th>\n",
       "      <th>predict</th>\n",
       "      <th>answer</th>\n",
       "      <th>original</th>\n",
       "    </tr>\n",
       "  </thead>\n",
       "  <tbody>\n",
       "    <tr>\n",
       "      <th>0</th>\n",
       "      <td>아까어든</td>\n",
       "      <td>아까 어둠</td>\n",
       "      <td>아까 어둠</td>\n",
       "    </tr>\n",
       "    <tr>\n",
       "      <th>1</th>\n",
       "      <td>한에</td>\n",
       "      <td>한눈에</td>\n",
       "      <td>한눈에</td>\n",
       "    </tr>\n",
       "    <tr>\n",
       "      <th>2</th>\n",
       "      <td>호니</td>\n",
       "      <td>서,</td>\n",
       "      <td>서,</td>\n",
       "    </tr>\n",
       "    <tr>\n",
       "      <th>3</th>\n",
       "      <td>걸</td>\n",
       "      <td>걸</td>\n",
       "      <td>걸</td>\n",
       "    </tr>\n",
       "    <tr>\n",
       "      <th>4</th>\n",
       "      <td>휘허냐와</td>\n",
       "      <td>거예요?</td>\n",
       "      <td>거예요?</td>\n",
       "    </tr>\n",
       "  </tbody>\n",
       "</table>\n",
       "</div>"
      ],
      "text/plain": [
       "  predict answer original\n",
       "0    아까어든  아까 어둠    아까 어둠\n",
       "1      한에    한눈에      한눈에\n",
       "2      호니     서,       서,\n",
       "3       걸      걸        걸\n",
       "4    휘허냐와   거예요?     거예요?"
      ]
     },
     "metadata": {},
     "execution_count": 3
    }
   ],
   "metadata": {}
  },
  {
   "cell_type": "code",
   "execution_count": 4,
   "source": [
    "# 카운터\n",
    "totalCounter = Counter() # 모든 글자를 저장하는 카운터\n",
    "trueCounter = Counter() # 맞춘 글자를 저장하는 카운터\n",
    "falseCounter = Counter() # 오답 글자를 저장하는 카운터\n",
    "\n",
    "for row in df.iterrows():\n",
    "    for charIdx, char in enumerate(row[1]['original']):\n",
    "        if char in target_text:\n",
    "            totalCounter[char] += 1\n",
    "            if charIdx < len(row[1]['predict']):\n",
    "                if char == row[1]['predict'][charIdx]: # 정답인경우\n",
    "                    trueCounter[char] += 1\n",
    "                else:\n",
    "                    falseCounter[char] += 1\n",
    "            else:\n",
    "                falseCounter[char] += 1\n",
    "        else:\n",
    "            totalCounter['<OOV>'] += 1\n",
    "            falseCounter['<OOV>'] += 1"
   ],
   "outputs": [],
   "metadata": {}
  },
  {
   "cell_type": "code",
   "execution_count": 5,
   "source": [
    "print(f\"글자별 정답률 :{sum(trueCounter.values())/sum(totalCounter.values())}\")"
   ],
   "outputs": [
    {
     "output_type": "stream",
     "name": "stdout",
     "text": [
      "글자별 정답률 :0.3549107142857143\n"
     ]
    }
   ],
   "metadata": {}
  },
  {
   "cell_type": "code",
   "execution_count": 6,
   "source": [
    "# 각각의 카운터 빈도수를 다시 df로 만듭니다.\n",
    "counterDF = pd.DataFrame.from_dict({'total': pd.Series(totalCounter.most_common()), 'true':pd.Series(trueCounter.most_common()), 'false': pd.Series(falseCounter.most_common())})\n",
    "counterDF.head(20)"
   ],
   "outputs": [
    {
     "output_type": "execute_result",
     "data": {
      "text/html": [
       "<div>\n",
       "<style scoped>\n",
       "    .dataframe tbody tr th:only-of-type {\n",
       "        vertical-align: middle;\n",
       "    }\n",
       "\n",
       "    .dataframe tbody tr th {\n",
       "        vertical-align: top;\n",
       "    }\n",
       "\n",
       "    .dataframe thead th {\n",
       "        text-align: right;\n",
       "    }\n",
       "</style>\n",
       "<table border=\"1\" class=\"dataframe\">\n",
       "  <thead>\n",
       "    <tr style=\"text-align: right;\">\n",
       "      <th></th>\n",
       "      <th>total</th>\n",
       "      <th>true</th>\n",
       "      <th>false</th>\n",
       "    </tr>\n",
       "  </thead>\n",
       "  <tbody>\n",
       "    <tr>\n",
       "      <th>0</th>\n",
       "      <td>(이, 15)</td>\n",
       "      <td>(이, 9)</td>\n",
       "      <td>( , 13)</td>\n",
       "    </tr>\n",
       "    <tr>\n",
       "      <th>1</th>\n",
       "      <td>( , 13)</td>\n",
       "      <td>(아, 8)</td>\n",
       "      <td>(,, 6)</td>\n",
       "    </tr>\n",
       "    <tr>\n",
       "      <th>2</th>\n",
       "      <td>(아, 12)</td>\n",
       "      <td>(도, 6)</td>\n",
       "      <td>(이, 6)</td>\n",
       "    </tr>\n",
       "    <tr>\n",
       "      <th>3</th>\n",
       "      <td>(어, 9)</td>\n",
       "      <td>(어, 5)</td>\n",
       "      <td>(., 6)</td>\n",
       "    </tr>\n",
       "    <tr>\n",
       "      <th>4</th>\n",
       "      <td>(요, 9)</td>\n",
       "      <td>(요, 5)</td>\n",
       "      <td>(지, 6)</td>\n",
       "    </tr>\n",
       "    <tr>\n",
       "      <th>5</th>\n",
       "      <td>(하, 8)</td>\n",
       "      <td>(까, 4)</td>\n",
       "      <td>(니, 6)</td>\n",
       "    </tr>\n",
       "    <tr>\n",
       "      <th>6</th>\n",
       "      <td>(다, 8)</td>\n",
       "      <td>(상, 3)</td>\n",
       "      <td>(하, 5)</td>\n",
       "    </tr>\n",
       "    <tr>\n",
       "      <th>7</th>\n",
       "      <td>(,, 7)</td>\n",
       "      <td>(?, 3)</td>\n",
       "      <td>(], 5)</td>\n",
       "    </tr>\n",
       "    <tr>\n",
       "      <th>8</th>\n",
       "      <td>(?, 7)</td>\n",
       "      <td>(부, 3)</td>\n",
       "      <td>(다, 5)</td>\n",
       "    </tr>\n",
       "    <tr>\n",
       "      <th>9</th>\n",
       "      <td>(지, 7)</td>\n",
       "      <td>(먹, 3)</td>\n",
       "      <td>(어, 4)</td>\n",
       "    </tr>\n",
       "    <tr>\n",
       "      <th>10</th>\n",
       "      <td>(도, 7)</td>\n",
       "      <td>([, 3)</td>\n",
       "      <td>(에, 4)</td>\n",
       "    </tr>\n",
       "    <tr>\n",
       "      <th>11</th>\n",
       "      <td>(까, 6)</td>\n",
       "      <td>(다, 3)</td>\n",
       "      <td>(요, 4)</td>\n",
       "    </tr>\n",
       "    <tr>\n",
       "      <th>12</th>\n",
       "      <td>(에, 6)</td>\n",
       "      <td>(하, 3)</td>\n",
       "      <td>(?, 4)</td>\n",
       "    </tr>\n",
       "    <tr>\n",
       "      <th>13</th>\n",
       "      <td>(상, 6)</td>\n",
       "      <td>(저, 3)</td>\n",
       "      <td>(보, 4)</td>\n",
       "    </tr>\n",
       "    <tr>\n",
       "      <th>14</th>\n",
       "      <td>(보, 6)</td>\n",
       "      <td>(한, 2)</td>\n",
       "      <td>(!, 4)</td>\n",
       "    </tr>\n",
       "    <tr>\n",
       "      <th>15</th>\n",
       "      <td>(., 6)</td>\n",
       "      <td>(심, 2)</td>\n",
       "      <td>(&lt;OOV&gt;, 4)</td>\n",
       "    </tr>\n",
       "    <tr>\n",
       "      <th>16</th>\n",
       "      <td>(!, 6)</td>\n",
       "      <td>(히, 2)</td>\n",
       "      <td>(습, 4)</td>\n",
       "    </tr>\n",
       "    <tr>\n",
       "      <th>17</th>\n",
       "      <td>(니, 6)</td>\n",
       "      <td>(판, 2)</td>\n",
       "      <td>(아, 4)</td>\n",
       "    </tr>\n",
       "    <tr>\n",
       "      <th>18</th>\n",
       "      <td>(저, 6)</td>\n",
       "      <td>(신, 2)</td>\n",
       "      <td>(상, 3)</td>\n",
       "    </tr>\n",
       "    <tr>\n",
       "      <th>19</th>\n",
       "      <td>(의, 5)</td>\n",
       "      <td>(을, 2)</td>\n",
       "      <td>(위, 3)</td>\n",
       "    </tr>\n",
       "  </tbody>\n",
       "</table>\n",
       "</div>"
      ],
      "text/plain": [
       "      total    true       false\n",
       "0   (이, 15)  (이, 9)     ( , 13)\n",
       "1   ( , 13)  (아, 8)      (,, 6)\n",
       "2   (아, 12)  (도, 6)      (이, 6)\n",
       "3    (어, 9)  (어, 5)      (., 6)\n",
       "4    (요, 9)  (요, 5)      (지, 6)\n",
       "5    (하, 8)  (까, 4)      (니, 6)\n",
       "6    (다, 8)  (상, 3)      (하, 5)\n",
       "7    (,, 7)  (?, 3)      (], 5)\n",
       "8    (?, 7)  (부, 3)      (다, 5)\n",
       "9    (지, 7)  (먹, 3)      (어, 4)\n",
       "10   (도, 7)  ([, 3)      (에, 4)\n",
       "11   (까, 6)  (다, 3)      (요, 4)\n",
       "12   (에, 6)  (하, 3)      (?, 4)\n",
       "13   (상, 6)  (저, 3)      (보, 4)\n",
       "14   (보, 6)  (한, 2)      (!, 4)\n",
       "15   (., 6)  (심, 2)  (<OOV>, 4)\n",
       "16   (!, 6)  (히, 2)      (습, 4)\n",
       "17   (니, 6)  (판, 2)      (아, 4)\n",
       "18   (저, 6)  (신, 2)      (상, 3)\n",
       "19   (의, 5)  (을, 2)      (위, 3)"
      ]
     },
     "metadata": {},
     "execution_count": 6
    }
   ],
   "metadata": {}
  },
  {
   "cell_type": "markdown",
   "source": [
    "로, 라, 의 글자 등 자주 나오지 않음에도 많이 틀리는 글자들이 문제가 아닐까?"
   ],
   "metadata": {}
  },
  {
   "cell_type": "code",
   "execution_count": 7,
   "source": [
    "# oov 문제로 예측 실패한 글자 수\n",
    "totalCounter['<OOV>']"
   ],
   "outputs": [
    {
     "output_type": "execute_result",
     "data": {
      "text/plain": [
       "4"
      ]
     },
     "metadata": {},
     "execution_count": 7
    }
   ],
   "metadata": {}
  },
  {
   "cell_type": "code",
   "execution_count": 8,
   "source": [
    "answer_frac = {k: fv/totalCounter[k] for k, fv in falseCounter.items() } # 각 글자별 오답률 계산\n",
    "sorted(answer_frac.items(), key=(lambda x : x[1]), reverse=True)"
   ],
   "outputs": [
    {
     "output_type": "execute_result",
     "data": {
      "text/plain": [
       "[(' ', 1.0),\n",
       " ('둠', 1.0),\n",
       " ('눈', 1.0),\n",
       " ('예', 1.0),\n",
       " ('세', 1.0),\n",
       " ('떻', 1.0),\n",
       " ('위', 1.0),\n",
       " ('싱', 1.0),\n",
       " ('숑', 1.0),\n",
       " ('름', 1.0),\n",
       " ('면', 1.0),\n",
       " ('쪽', 1.0),\n",
       " ('으', 1.0),\n",
       " ('.', 1.0),\n",
       " ('현', 1.0),\n",
       " ('성', 1.0),\n",
       " ('’', 1.0),\n",
       " ('엄', 1.0),\n",
       " ('날', 1.0),\n",
       " ('등', 1.0),\n",
       " ('급', 1.0),\n",
       " (':', 1.0),\n",
       " ('D', 1.0),\n",
       " ('무', 1.0),\n",
       " ('슨', 1.0),\n",
       " ('창', 1.0),\n",
       " ('평', 1.0),\n",
       " ('체', 1.0),\n",
       " ('짜', 1.0),\n",
       " ('라', 1.0),\n",
       " ('니', 1.0),\n",
       " ('불', 1.0),\n",
       " ('능', 1.0),\n",
       " ('좌', 1.0),\n",
       " ('님', 1.0),\n",
       " ('았', 1.0),\n",
       " ('놈', 1.0),\n",
       " ('웅', 1.0),\n",
       " ('<OOV>', 1.0),\n",
       " ('T', 1.0),\n",
       " ('E', 1.0),\n",
       " ('M', 1.0),\n",
       " (']', 1.0),\n",
       " ('핫', 1.0),\n",
       " ('획', 1.0),\n",
       " ('였', 1.0),\n",
       " ('습', 1.0),\n",
       " ('곱', 1.0),\n",
       " ('사', 1.0),\n",
       " ('실', 1.0),\n",
       " ('압', 1.0),\n",
       " ('력', 1.0),\n",
       " ('템', 1.0),\n",
       " ('꾼', 1.0),\n",
       " ('그', 1.0),\n",
       " ('왜', 1.0),\n",
       " ('못', 1.0),\n",
       " ('오', 1.0),\n",
       " ('악', 1.0),\n",
       " ('함', 1.0),\n",
       " ('브', 1.0),\n",
       " ('륵', 1.0),\n",
       " ('만', 1.0),\n",
       " ('p', 1.0),\n",
       " ('i', 1.0),\n",
       " ('s', 1.0),\n",
       " ('o', 1.0),\n",
       " ('d', 1.0),\n",
       " ('e', 1.0),\n",
       " ('g', 1.0),\n",
       " ('킁', 1.0),\n",
       " ('끄', 1.0),\n",
       " ('비', 1.0),\n",
       " ('활', 1.0),\n",
       " ('화', 1.0),\n",
       " ('었', 1.0),\n",
       " ('원', 1.0),\n",
       " ('났', 1.0),\n",
       " ('>', 1.0),\n",
       " ('출', 1.0),\n",
       " ('했', 1.0),\n",
       " ('U', 1.0),\n",
       " ('R', 1.0),\n",
       " ('c', 1.0),\n",
       " (\"'\", 1.0),\n",
       " ('긴', 1.0),\n",
       " ('볼', 1.0),\n",
       " ('번', 1.0),\n",
       " ('긋', 1.0),\n",
       " ('물', 1.0),\n",
       " ('격', 1.0),\n",
       " ('깐', 1.0),\n",
       " ('<', 1.0),\n",
       " ('형', 1.0),\n",
       " ('뭘', 1.0),\n",
       " ('앗', 1.0),\n",
       " ('검', 1.0),\n",
       " ('넣', 1.0),\n",
       " ('조', 1.0),\n",
       " ('건', 1.0),\n",
       " ('2', 1.0),\n",
       " ('피', 1.0),\n",
       " ('-', 1.0),\n",
       " ('C', 1.0),\n",
       " ('초', 1.0),\n",
       " ('반', 1.0),\n",
       " ('쩍', 1.0),\n",
       " ('푹', 1.0),\n",
       " ('르', 1.0),\n",
       " (',', 0.8571428571428571),\n",
       " ('지', 0.8571428571428571),\n",
       " ('가', 0.75),\n",
       " ('에', 0.6666666666666666),\n",
       " ('서', 0.6666666666666666),\n",
       " ('거', 0.6666666666666666),\n",
       " ('보', 0.6666666666666666),\n",
       " ('!', 0.6666666666666666),\n",
       " ('진', 0.6666666666666666),\n",
       " ('들', 0.6666666666666666),\n",
       " ('게', 0.6666666666666666),\n",
       " ('러', 0.6666666666666666),\n",
       " ('있', 0.6666666666666666),\n",
       " ('는', 0.6666666666666666),\n",
       " ('시', 0.6666666666666666),\n",
       " ('나', 0.6666666666666666),\n",
       " ('하', 0.625),\n",
       " ('다', 0.625),\n",
       " ('의', 0.6),\n",
       " ('?', 0.5714285714285714),\n",
       " ('상', 0.5),\n",
       " ('열', 0.5),\n",
       " ('청', 0.5),\n",
       " ('고', 0.5),\n",
       " ('뭐', 0.5),\n",
       " ('알', 0.5),\n",
       " ('겠', 0.5),\n",
       " ('씨', 0.5),\n",
       " ('제', 0.5),\n",
       " ('길', 0.5),\n",
       " ('저', 0.5),\n",
       " ('기', 0.5),\n",
       " ('리', 0.5),\n",
       " ('죠', 0.5),\n",
       " ('덕', 0.5),\n",
       " ('전', 0.5),\n",
       " ('되', 0.5),\n",
       " ('정', 0.5),\n",
       " ('와', 0.5),\n",
       " ('은', 0.5),\n",
       " ('타', 0.5),\n",
       " ('소', 0.5),\n",
       " ('수', 0.5),\n",
       " ('역', 0.5),\n",
       " ('어', 0.4444444444444444),\n",
       " ('요', 0.4444444444444444),\n",
       " ('이', 0.4),\n",
       " ('[', 0.4),\n",
       " ('까', 0.3333333333333333),\n",
       " ('한', 0.3333333333333333),\n",
       " ('아', 0.3333333333333333),\n",
       " ('을', 0.3333333333333333),\n",
       " ('자', 0.3333333333333333),\n",
       " ('부', 0.25),\n",
       " ('도', 0.14285714285714285)]"
      ]
     },
     "metadata": {},
     "execution_count": 8
    }
   ],
   "metadata": {}
  },
  {
   "cell_type": "code",
   "execution_count": 9,
   "source": [
    "len(answer_frac)"
   ],
   "outputs": [
    {
     "output_type": "execute_result",
     "data": {
      "text/plain": [
       "1131"
      ]
     },
     "metadata": {},
     "execution_count": 9
    }
   ],
   "metadata": {}
  },
  {
   "cell_type": "code",
   "execution_count": 10,
   "source": [
    "# 시각화를 해봅시다..\n"
   ],
   "outputs": [],
   "metadata": {}
  },
  {
   "cell_type": "markdown",
   "source": [
    "# Confusion matrix"
   ],
   "metadata": {}
  },
  {
   "cell_type": "code",
   "execution_count": 9,
   "source": [
    "# answer_mat = np.zeros((len(totalCounter), len(totalCounter)))\n",
    "answer_mat = np.zeros((len(target_text) +2, len(target_text)+2)) # oov와 err 추가\n",
    "answer_mat.shape"
   ],
   "outputs": [
    {
     "output_type": "execute_result",
     "data": {
      "text/plain": [
       "(1481, 1481)"
      ]
     },
     "metadata": {},
     "execution_count": 9
    }
   ],
   "metadata": {}
  },
  {
   "cell_type": "code",
   "execution_count": 10,
   "source": [
    "oov_idx = len(target_text)\n",
    "err_idx = len(target_text) + 1\n",
    "\n",
    "for row in df.iterrows():\n",
    "    pred = row[1]['predict']\n",
    "    for charIdx, char in enumerate(row[1]['original']):\n",
    "        if charIdx < len(pred):\n",
    "            if char in target_text:\n",
    "                answer_mat[target_text.index(char), target_text.index(pred[charIdx])] += 1\n",
    "            else:\n",
    "                answer_mat[oov_idx, target_text.index(pred[charIdx])] += 1\n",
    "        else:\n",
    "            if char in target_text:\n",
    "                answer_mat[target_text.index(char), err_idx] += 1\n",
    "            else:\n",
    "                answer_mat[oov_idx, err_idx] += 1\n",
    "            "
   ],
   "outputs": [],
   "metadata": {}
  },
  {
   "cell_type": "markdown",
   "source": [
    "confusion matrix 출력인데.. 의미가 있을까..\n",
    "거의 안 보인다."
   ],
   "metadata": {}
  },
  {
   "cell_type": "code",
   "execution_count": null,
   "source": [
    "plt.figure(figsize=(100,100))\n",
    "plt.pcolor(answer_mat)\n",
    "plt.xticks(np.arange(0.5, len(target_text) + 2, 1), list(target_text) + [\"OOV\", \"ERR\"])\n",
    "plt.yticks(np.arange(0.5, len(target_text) + 2, 1), list(target_text) + [\"OOV\", \"ERR\"])\n",
    "plt.title('OCR 모델 confusion matrix', fontsize=20)\n",
    "plt.xlabel('Prediction', fontsize=14)\n",
    "plt.ylabel('Answer', fontsize=14)\n",
    "plt.colorbar()\n",
    "plt.show()"
   ],
   "outputs": [],
   "metadata": {}
  },
  {
   "cell_type": "code",
   "execution_count": 11,
   "source": [
    "# 오답 상위 10개 글자의 다른 글자 예측\n",
    "for word, cnt in falseCounter.most_common()[:10]:\n",
    "    idx = target_text.index(word)\n",
    "    wrongArgArr = answer_mat[idx,:].argsort()[::-1]\n",
    "    wrongCharArr = []\n",
    "    wrongCnt = []\n",
    "    for i in wrongArgArr[1:11]:\n",
    "        if answer_mat[idx, i] != 0:\n",
    "            wrongCharArr.append((list(target_text) + [\"OOV\", \"ERR\"])[i])\n",
    "            wrongCnt.append(answer_mat[idx, i])\n",
    "    print(f\"단어| {word}\\n실패| {cnt}\\n잘못 인식한 글자| {wrongCharArr}\\n횟수| {wrongCnt}\")\n",
    "    print(\"----------------------------------------\")"
   ],
   "outputs": [
    {
     "output_type": "stream",
     "name": "stdout",
     "text": [
      "단어|  \n",
      "실패| 13\n",
      "잘못 인식한 글자| ['어', '해', '는', '.', '버', '놈', '이', '네', '보', '!']\n",
      "횟수| [1.0, 1.0, 1.0, 1.0, 1.0, 1.0, 1.0, 1.0, 1.0, 1.0]\n",
      "----------------------------------------\n",
      "단어| ,\n",
      "실패| 6\n",
      "잘못 인식한 글자| [',', '유', '니', '.', '내']\n",
      "횟수| [1.0, 1.0, 1.0, 1.0, 1.0]\n",
      "----------------------------------------\n",
      "단어| 이\n",
      "실패| 6\n",
      "잘못 인식한 글자| ['[', '가', '헤', '버', '리', '봐']\n",
      "횟수| [1.0, 1.0, 1.0, 1.0, 1.0, 1.0]\n",
      "----------------------------------------\n",
      "단어| .\n",
      "실패| 6\n",
      "잘못 인식한 글자| []\n",
      "횟수| []\n",
      "----------------------------------------\n",
      "단어| 지\n",
      "실패| 6\n",
      "잘못 인식한 글자| [']', '조', '지', '죄', '며']\n",
      "횟수| [1.0, 1.0, 1.0, 1.0, 1.0]\n",
      "----------------------------------------\n",
      "단어| 니\n",
      "실패| 6\n",
      "잘못 인식한 글자| [']', 'ERR', '려']\n",
      "횟수| [2.0, 1.0, 1.0]\n",
      "----------------------------------------\n",
      "단어| 하\n",
      "실패| 5\n",
      "잘못 인식한 글자| ['회', '[', '이', '둔', '핫']\n",
      "횟수| [1.0, 1.0, 1.0, 1.0, 1.0]\n",
      "----------------------------------------\n",
      "단어| ]\n",
      "실패| 5\n",
      "잘못 인식한 글자| []\n",
      "횟수| []\n",
      "----------------------------------------\n",
      "단어| 다\n",
      "실패| 5\n",
      "잘못 인식한 글자| ['ERR', '려', ']', '데']\n",
      "횟수| [2.0, 1.0, 1.0, 1.0]\n",
      "----------------------------------------\n",
      "단어| 어\n",
      "실패| 4\n",
      "잘못 인식한 글자| ['든', '봐', '나', '다']\n",
      "횟수| [1.0, 1.0, 1.0, 1.0]\n",
      "----------------------------------------\n"
     ]
    }
   ],
   "metadata": {}
  },
  {
   "cell_type": "code",
   "execution_count": 37,
   "source": [
    "answer_mat[12,:].argsort()[::-1]"
   ],
   "outputs": [
    {
     "output_type": "execute_result",
     "data": {
      "text/plain": [
       "array([  12, 1480,   10, ...,  982,  983,    0])"
      ]
     },
     "metadata": {},
     "execution_count": 37
    }
   ],
   "metadata": {}
  },
  {
   "cell_type": "code",
   "execution_count": 28,
   "source": [
    "target_text.index(falseCounter.most_common()[0][0])"
   ],
   "outputs": [
    {
     "output_type": "execute_result",
     "data": {
      "text/plain": [
       "12"
      ]
     },
     "metadata": {},
     "execution_count": 28
    }
   ],
   "metadata": {}
  }
 ],
 "metadata": {
  "orig_nbformat": 4,
  "language_info": {
   "name": "python",
   "version": "3.7.11",
   "mimetype": "text/x-python",
   "codemirror_mode": {
    "name": "ipython",
    "version": 3
   },
   "pygments_lexer": "ipython3",
   "nbconvert_exporter": "python",
   "file_extension": ".py"
  },
  "kernelspec": {
   "name": "python3",
   "display_name": "Python 3.7.11 64-bit ('soma-recognition-new': conda)"
  },
  "interpreter": {
   "hash": "d2be4ac5b3b89d3f66e21eb17e710f24c12a1c85aba19471eb29ac484714b9dd"
  }
 },
 "nbformat": 4,
 "nbformat_minor": 2
}