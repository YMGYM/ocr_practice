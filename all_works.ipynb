{
 "cells": [
  {
   "cell_type": "code",
   "execution_count": 1,
   "source": [
    "import sys, os\n",
    "import torch\n",
    "from PIL import Image\n",
    "import numpy as np\n",
    "import matplotlib.pyplot as plt\n",
    "\n",
    "from components.dataset import OcrDataset # OCR용 데이터셋\n",
    "from torch.utils.data import DataLoader # 멀티배치 학습을 위한 데이터로더\n",
    "from components.tokenizer import Tokenizer"
   ],
   "outputs": [],
   "metadata": {}
  },
  {
   "cell_type": "code",
   "execution_count": 2,
   "source": [
    "base_dir = '../soma/font/dataset/'\n",
    "train_dir = base_dir + 'train/'\n",
    "val_dir = base_dir + 'val/'"
   ],
   "outputs": [],
   "metadata": {}
  },
  {
   "cell_type": "code",
   "execution_count": 3,
   "source": [
    "train_ocr = OcrDataset(train_dir, is_val=False, seq_len=10)\n",
    "train_dataset = DataLoader(train_ocr, batch_size=64, shuffle=True)"
   ],
   "outputs": [],
   "metadata": {}
  },
  {
   "cell_type": "code",
   "execution_count": 4,
   "source": [
    "for x, y in train_dataset:\n",
    "    print(x.shape)\n",
    "    print(y.shape)\n",
    "    break"
   ],
   "outputs": [
    {
     "output_type": "stream",
     "name": "stdout",
     "text": [
      "torch.Size([64, 1, 32, 100])\n",
      "torch.Size([64, 10, 1017])\n"
     ]
    }
   ],
   "metadata": {}
  },
  {
   "cell_type": "code",
   "execution_count": null,
   "source": [],
   "outputs": [],
   "metadata": {}
  }
 ],
 "metadata": {
  "orig_nbformat": 4,
  "language_info": {
   "name": "python",
   "version": "3.7.11",
   "mimetype": "text/x-python",
   "codemirror_mode": {
    "name": "ipython",
    "version": 3
   },
   "pygments_lexer": "ipython3",
   "nbconvert_exporter": "python",
   "file_extension": ".py"
  },
  "kernelspec": {
   "name": "python3",
   "display_name": "Python 3.7.11 64-bit ('soma-recognition-new': conda)"
  },
  "interpreter": {
   "hash": "d2be4ac5b3b89d3f66e21eb17e710f24c12a1c85aba19471eb29ac484714b9dd"
  }
 },
 "nbformat": 4,
 "nbformat_minor": 2
}