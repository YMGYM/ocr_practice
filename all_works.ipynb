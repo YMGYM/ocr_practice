{
 "cells": [
  {
   "cell_type": "code",
   "execution_count": 1,
   "source": [
    "import sys, os\n",
    "import torch\n",
    "from PIL import Image\n",
    "import numpy as np\n",
    "import matplotlib.pyplot as plt\n",
    "\n",
    "from components.dataset import OcrDataset # OCR용 데이터셋\n",
    "from torch.utils.data import DataLoader # 멀티배치 학습을 위한 데이터로더\n",
    "from components.tokenizer import Tokenizer\n",
    "from components.trainer import Trainer\n",
    "from components.crnn_model import CRNN\n",
    "\n",
    "import torch.optim as optim\n",
    "import torch.nn as nn"
   ],
   "outputs": [],
   "metadata": {}
  },
  {
   "cell_type": "code",
   "execution_count": 2,
   "source": [
    "base_dir = '../soma/font/dataset/'\n",
    "train_dir = base_dir + 'train_dict/'\n",
    "val_dir = base_dir + 'val_dict/'"
   ],
   "outputs": [],
   "metadata": {}
  },
  {
   "cell_type": "code",
   "execution_count": 3,
   "source": [
    "train_ocr = OcrDataset(train_dir, is_val=False)\n",
    "train_dataset = DataLoader(train_ocr, batch_size=1, shuffle=True)\n",
    "\n",
    "val_ocr = OcrDataset(val_dir, is_val=True)\n",
    "val_dataset = DataLoader(val_ocr, batch_size=1, shuffle=True)"
   ],
   "outputs": [],
   "metadata": {}
  },
  {
   "cell_type": "code",
   "execution_count": 4,
   "source": [
    "tokenizer = Tokenizer(seq_len=10, one_hot=False)\n",
    "model = CRNN()\n",
    "PAD_IDX = tokenizer.word2id['<PAD>']\n",
    "criterion = nn.CrossEntropyLoss(ignore_index = PAD_IDX)\n",
    "optimizer = optim.Adam # 클래스 정보만 넘겨줌"
   ],
   "outputs": [],
   "metadata": {}
  },
  {
   "cell_type": "code",
   "execution_count": 5,
   "source": [
    "trainer = Trainer(model, train_dataset, val_dataset, criterion, optimizer, tokenizer )\n",
    "\n",
    "trainer"
   ],
   "outputs": [
    {
     "output_type": "execute_result",
     "data": {
      "text/plain": [
       "model: CRNN(\n",
       "  (conv1): Conv2d(1, 128, kernel_size=(5, 5), stride=(1, 1))\n",
       "  (pool): MaxPool2d(kernel_size=2, stride=2, padding=0, dilation=1, ceil_mode=False)\n",
       "  (drop1): Dropout(p=0.5, inplace=False)\n",
       "  (conv2): Conv2d(128, 512, kernel_size=(3, 3), stride=(1, 1))\n",
       "  (drop2): Dropout(p=0.5, inplace=False)\n",
       "  (pool2): MaxPool2d(kernel_size=2, stride=2, padding=0, dilation=1, ceil_mode=False)\n",
       "  (rnn1): GRU(3072, 1024, num_layers=2, batch_first=True, bidirectional=True)\n",
       "  (fc_out): Linear(in_features=2048, out_features=1482, bias=True)\n",
       ")\n",
       "criterion: CrossEntropyLoss()\n",
       "optimizer : Adam (\n",
       "Parameter Group 0\n",
       "    amsgrad: False\n",
       "    betas: (0.9, 0.999)\n",
       "    eps: 1e-08\n",
       "    lr: 0.0001\n",
       "    weight_decay: 0\n",
       ")"
      ]
     },
     "metadata": {},
     "execution_count": 5
    }
   ],
   "metadata": {}
  },
  {
   "cell_type": "code",
   "execution_count": 6,
   "source": [
    "for x, y in train_dataset:\n",
    "    plt.figure(figsize=(1,1))\n",
    "    plt.imshow(x[0].squeeze(0), cmap=\"gray\")\n",
    "    plt.show()\n",
    "    break"
   ],
   "outputs": [
    {
     "output_type": "display_data",
     "data": {
      "image/png": "[encoded data removed]",
      "text/plain": [
       "<Figure size 72x72 with 1 Axes>"
      ]
     },
     "metadata": {
      "needs_background": "light"
     }
    }
   ],
   "metadata": {}
  },
  {
   "cell_type": "code",
   "execution_count": 15,
   "source": [
    "checkpoint = torch.load('./model/model_drop.pth')\n",
    "model.load_state_dict(checkpoint['model_state_dict'])\n",
    "model.to('cuda')\n",
    "\n",
    "model.eval()\n",
    "torch.no_grad()"
   ],
   "outputs": [
    {
     "output_type": "execute_result",
     "data": {
      "text/plain": [
       "<torch.autograd.grad_mode.no_grad at 0x7f0f76d05e10>"
      ]
     },
     "metadata": {},
     "execution_count": 15
    }
   ],
   "metadata": {}
  },
  {
   "cell_type": "code",
   "execution_count": 21,
   "source": [
    "result = model(x.to('cuda'))\n",
    "result.shape"
   ],
   "outputs": [
    {
     "output_type": "execute_result",
     "data": {
      "text/plain": [
       "torch.Size([15, 1, 1482])"
      ]
     },
     "metadata": {},
     "execution_count": 21
    }
   ],
   "metadata": {}
  },
  {
   "cell_type": "code",
   "execution_count": 22,
   "source": [
    "tokenizer.decode(result.permute(1,0,2))"
   ],
   "outputs": [
    {
     "output_type": "execute_result",
     "data": {
      "text/plain": [
       "['발출하려는']"
      ]
     },
     "metadata": {},
     "execution_count": 22
    }
   ],
   "metadata": {}
  },
  {
   "cell_type": "code",
   "execution_count": null,
   "source": [
    "싫"
   ],
   "outputs": [],
   "metadata": {}
  }
 ],
 "metadata": {
  "orig_nbformat": 4,
  "language_info": {
   "name": "python",
   "version": "3.7.11",
   "mimetype": "text/x-python",
   "codemirror_mode": {
    "name": "ipython",
    "version": 3
   },
   "pygments_lexer": "ipython3",
   "nbconvert_exporter": "python",
   "file_extension": ".py"
  },
  "kernelspec": {
   "name": "python3",
   "display_name": "Python 3.7.11 64-bit ('soma-recognition-new': conda)"
  },
  "interpreter": {
   "hash": "d2be4ac5b3b89d3f66e21eb17e710f24c12a1c85aba19471eb29ac484714b9dd"
  }
 },
 "nbformat": 4,
 "nbformat_minor": 2
}