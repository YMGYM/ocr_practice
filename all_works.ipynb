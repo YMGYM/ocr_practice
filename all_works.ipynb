{
 "cells": [
  {
   "cell_type": "code",
   "execution_count": 1,
   "source": [
    "import sys, os\n",
    "import torch\n",
    "from PIL import Image\n",
    "import numpy as np\n",
    "import matplotlib.pyplot as plt\n",
    "\n",
    "from components.dataset import OcrDataset # OCR용 데이터셋\n",
    "from torch.utils.data import DataLoader # 멀티배치 학습을 위한 데이터로더\n",
    "from components.tokenizer import Tokenizer\n",
    "from components.trainer import Trainer\n",
    "from components.crnn_model import CRNN\n",
    "\n",
    "import torch.optim as optim\n",
    "import torch.nn as nn"
   ],
   "outputs": [],
   "metadata": {}
  },
  {
   "cell_type": "code",
   "execution_count": 2,
   "source": [
    "base_dir = '../soma/font/dataset/'\n",
    "train_dir = base_dir + 'train/'\n",
    "val_dir = base_dir + 'val/'"
   ],
   "outputs": [],
   "metadata": {}
  },
  {
   "cell_type": "code",
   "execution_count": 3,
   "source": [
    "train_ocr = OcrDataset(train_dir, is_val=False)\n",
    "train_dataset = DataLoader(train_ocr, batch_size=32, shuffle=True)\n",
    "\n",
    "val_ocr = OcrDataset(val_dir, is_val=True)\n",
    "val_dataset = DataLoader(val_ocr, batch_size=32, shuffle=True)"
   ],
   "outputs": [],
   "metadata": {}
  },
  {
   "cell_type": "code",
   "execution_count": 4,
   "source": [
    "tokenizer = Tokenizer(seq_len=10, one_hot=False)\n",
    "model = CRNN()\n",
    "PAD_IDX = tokenizer.word2id['<PAD>']\n",
    "criterion = nn.CrossEntropyLoss(ignore_index = PAD_IDX)\n",
    "optimizer = optim.Adam # 클래스 정보만 넘겨줌"
   ],
   "outputs": [],
   "metadata": {}
  },
  {
   "cell_type": "code",
   "execution_count": 5,
   "source": [
    "trainer = Trainer(model, train_dataset, val_dataset, criterion, optimizer, tokenizer )\n",
    "\n",
    "trainer"
   ],
   "outputs": [
    {
     "output_type": "execute_result",
     "data": {
      "text/plain": [
       "model: Model(\n",
       "  (encoder): Encoder(\n",
       "    (conv1): Conv2d(1, 64, kernel_size=(4, 4), stride=(1, 1))\n",
       "    (pool): MaxPool2d(kernel_size=2, stride=2, padding=0, dilation=1, ceil_mode=False)\n",
       "    (drop1): Dropout(p=0.5, inplace=False)\n",
       "    (conv2): Conv2d(64, 16, kernel_size=(4, 4), stride=(1, 1))\n",
       "    (drop2): Dropout(p=0.5, inplace=False)\n",
       "    (fc): Linear(in_features=1760, out_features=128, bias=True)\n",
       "  )\n",
       "  (decoder): Decoder(\n",
       "    (embedding): Embedding(1017, 256)\n",
       "    (dropout): Dropout(p=0.5, inplace=False)\n",
       "    (rnn): GRU(256, 128)\n",
       "    (fc_out): Linear(in_features=128, out_features=1017, bias=True)\n",
       "  )\n",
       ")\n",
       "criterion: CrossEntropyLoss()\n",
       "optimizer : Adam (\n",
       "Parameter Group 0\n",
       "    amsgrad: False\n",
       "    betas: (0.9, 0.999)\n",
       "    eps: 1e-08\n",
       "    lr: 0.001\n",
       "    weight_decay: 0\n",
       ")"
      ]
     },
     "metadata": {},
     "execution_count": 5
    }
   ],
   "metadata": {}
  },
  {
   "cell_type": "code",
   "execution_count": 14,
   "source": [
    "for x, y in train_dataset:\n",
    "    plt.figure(figsize=(1,1))\n",
    "    plt.imshow(x[0].squeeze(0), cmap=\"gray\")\n",
    "    plt.show()\n",
    "    break"
   ],
   "outputs": [
    {
     "output_type": "display_data",
     "data": {
      "text/plain": [
       "<Figure size 72x72 with 1 Axes>"
      ],
      "image/svg+xml": "<?xml version=\"1.0\" encoding=\"utf-8\" standalone=\"no\"?>\n<!DOCTYPE svg PUBLIC \"-//W3C//DTD SVG 1.1//EN\"\n  \"http://www.w3.org/Graphics/SVG/1.1/DTD/svg11.dtd\">\n<!-- Created with matplotlib (https://matplotlib.org/) -->\n<svg height=\"52.454344pt\" version=\"1.1\" viewBox=\"0 0 89.925 52.454344\" width=\"89.925pt\" xmlns=\"http://www.w3.org/2000/svg\" xmlns:xlink=\"http://www.w3.org/1999/xlink\">\n <metadata>\n  <rdf:RDF xmlns:cc=\"http://creativecommons.org/ns#\" xmlns:dc=\"http://purl.org/dc/elements/1.1/\" xmlns:rdf=\"http://www.w3.org/1999/02/22-rdf-syntax-ns#\">\n   <cc:Work>\n    <dc:type rdf:resource=\"http://purl.org/dc/dcmitype/StillImage\"/>\n    <dc:date>2021-09-03T17:38:00.787678</dc:date>\n    <dc:format>image/svg+xml</dc:format>\n    <dc:creator>\n     <cc:Agent>\n      <dc:title>Matplotlib v3.3.4, https://matplotlib.org/</dc:title>\n     </cc:Agent>\n    </dc:creator>\n   </cc:Work>\n  </rdf:RDF>\n </metadata>\n <defs>\n  <style type=\"text/css\">*{stroke-linecap:butt;stroke-linejoin:round;}</style>\n </defs>\n <g id=\"figure_1\">\n  <g id=\"patch_1\">\n   <path d=\"M 0 52.454344 \nL 89.925 52.454344 \nL 89.925 0 \nL 0 0 \nz\n\" style=\"fill:none;\"/>\n  </g>\n  <g id=\"axes_1\">\n   <g id=\"patch_2\">\n    <path d=\"M 26.925 28.576219 \nL 82.725 28.576219 \nL 82.725 10.720219 \nL 26.925 10.720219 \nz\n\" style=\"fill:#ffffff;\"/>\n   </g>\n   <g clip-path=\"url(#pf0ab5cb1f4)\">\n    <image height=\"18\" id=\"imagef15deb9b7a\" transform=\"scale(1 -1)translate(0 -18)\" width=\"56\" x=\"26.925\" xlink:href=\"data:image/png;base64,\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\" y=\"-10.576219\"/>\n   </g>\n   <g id=\"matplotlib.axis_1\">\n    <g id=\"xtick_1\">\n     <g id=\"line2d_1\">\n      <defs>\n       <path d=\"M 0 0 \nL 0 3.5 \n\" id=\"m7c03e3d110\" style=\"stroke:#000000;stroke-width:0.8;\"/>\n      </defs>\n      <g>\n       <use style=\"stroke:#000000;stroke-width:0.8;\" x=\"27.204\" xlink:href=\"#m7c03e3d110\" y=\"28.576219\"/>\n      </g>\n     </g>\n     <g id=\"text_1\">\n      <!-- 0 -->\n      <g transform=\"translate(24.02275 43.174656)scale(0.1 -0.1)\">\n       <defs>\n        <path d=\"M 31.78125 66.40625 \nQ 24.171875 66.40625 20.328125 58.90625 \nQ 16.5 51.421875 16.5 36.375 \nQ 16.5 21.390625 20.328125 13.890625 \nQ 24.171875 6.390625 31.78125 6.390625 \nQ 39.453125 6.390625 43.28125 13.890625 \nQ 47.125 21.390625 47.125 36.375 \nQ 47.125 51.421875 43.28125 58.90625 \nQ 39.453125 66.40625 31.78125 66.40625 \nz\nM 31.78125 74.21875 \nQ 44.046875 74.21875 50.515625 64.515625 \nQ 56.984375 54.828125 56.984375 36.375 \nQ 56.984375 17.96875 50.515625 8.265625 \nQ 44.046875 -1.421875 31.78125 -1.421875 \nQ 19.53125 -1.421875 13.0625 8.265625 \nQ 6.59375 17.96875 6.59375 36.375 \nQ 6.59375 54.828125 13.0625 64.515625 \nQ 19.53125 74.21875 31.78125 74.21875 \nz\n\" id=\"DejaVuSans-48\"/>\n       </defs>\n       <use xlink:href=\"#DejaVuSans-48\"/>\n      </g>\n     </g>\n    </g>\n    <g id=\"xtick_2\">\n     <g id=\"line2d_2\">\n      <g>\n       <use style=\"stroke:#000000;stroke-width:0.8;\" x=\"55.104\" xlink:href=\"#m7c03e3d110\" y=\"28.576219\"/>\n      </g>\n     </g>\n     <g id=\"text_2\">\n      <!-- 50 -->\n      <g transform=\"translate(48.7415 43.174656)scale(0.1 -0.1)\">\n       <defs>\n        <path d=\"M 10.796875 72.90625 \nL 49.515625 72.90625 \nL 49.515625 64.59375 \nL 19.828125 64.59375 \nL 19.828125 46.734375 \nQ 21.96875 47.46875 24.109375 47.828125 \nQ 26.265625 48.1875 28.421875 48.1875 \nQ 40.625 48.1875 47.75 41.5 \nQ 54.890625 34.8125 54.890625 23.390625 \nQ 54.890625 11.625 47.5625 5.09375 \nQ 40.234375 -1.421875 26.90625 -1.421875 \nQ 22.3125 -1.421875 17.546875 -0.640625 \nQ 12.796875 0.140625 7.71875 1.703125 \nL 7.71875 11.625 \nQ 12.109375 9.234375 16.796875 8.0625 \nQ 21.484375 6.890625 26.703125 6.890625 \nQ 35.15625 6.890625 40.078125 11.328125 \nQ 45.015625 15.765625 45.015625 23.390625 \nQ 45.015625 31 40.078125 35.4375 \nQ 35.15625 39.890625 26.703125 39.890625 \nQ 22.75 39.890625 18.8125 39.015625 \nQ 14.890625 38.140625 10.796875 36.28125 \nz\n\" id=\"DejaVuSans-53\"/>\n       </defs>\n       <use xlink:href=\"#DejaVuSans-53\"/>\n       <use x=\"63.623047\" xlink:href=\"#DejaVuSans-48\"/>\n      </g>\n     </g>\n    </g>\n   </g>\n   <g id=\"matplotlib.axis_2\">\n    <g id=\"ytick_1\">\n     <g id=\"line2d_3\">\n      <defs>\n       <path d=\"M 0 0 \nL -3.5 0 \n\" id=\"m376ce1eb74\" style=\"stroke:#000000;stroke-width:0.8;\"/>\n      </defs>\n      <g>\n       <use style=\"stroke:#000000;stroke-width:0.8;\" x=\"26.925\" xlink:href=\"#m376ce1eb74\" y=\"10.999219\"/>\n      </g>\n     </g>\n     <g id=\"text_3\">\n      <!-- 0 -->\n      <g transform=\"translate(13.5625 14.798437)scale(0.1 -0.1)\">\n       <use xlink:href=\"#DejaVuSans-48\"/>\n      </g>\n     </g>\n    </g>\n    <g id=\"ytick_2\">\n     <g id=\"line2d_4\">\n      <g>\n       <use style=\"stroke:#000000;stroke-width:0.8;\" x=\"26.925\" xlink:href=\"#m376ce1eb74\" y=\"24.949219\"/>\n      </g>\n     </g>\n     <g id=\"text_4\">\n      <!-- 25 -->\n      <g transform=\"translate(7.2 28.748438)scale(0.1 -0.1)\">\n       <defs>\n        <path d=\"M 19.1875 8.296875 \nL 53.609375 8.296875 \nL 53.609375 0 \nL 7.328125 0 \nL 7.328125 8.296875 \nQ 12.9375 14.109375 22.625 23.890625 \nQ 32.328125 33.6875 34.8125 36.53125 \nQ 39.546875 41.84375 41.421875 45.53125 \nQ 43.3125 49.21875 43.3125 52.78125 \nQ 43.3125 58.59375 39.234375 62.25 \nQ 35.15625 65.921875 28.609375 65.921875 \nQ 23.96875 65.921875 18.8125 64.3125 \nQ 13.671875 62.703125 7.8125 59.421875 \nL 7.8125 69.390625 \nQ 13.765625 71.78125 18.9375 73 \nQ 24.125 74.21875 28.421875 74.21875 \nQ 39.75 74.21875 46.484375 68.546875 \nQ 53.21875 62.890625 53.21875 53.421875 \nQ 53.21875 48.921875 51.53125 44.890625 \nQ 49.859375 40.875 45.40625 35.40625 \nQ 44.1875 33.984375 37.640625 27.21875 \nQ 31.109375 20.453125 19.1875 8.296875 \nz\n\" id=\"DejaVuSans-50\"/>\n       </defs>\n       <use xlink:href=\"#DejaVuSans-50\"/>\n       <use x=\"63.623047\" xlink:href=\"#DejaVuSans-53\"/>\n      </g>\n     </g>\n    </g>\n   </g>\n   <g id=\"patch_3\">\n    <path d=\"M 26.925 28.576219 \nL 26.925 10.720219 \n\" style=\"fill:none;stroke:#000000;stroke-linecap:square;stroke-linejoin:miter;stroke-width:0.8;\"/>\n   </g>\n   <g id=\"patch_4\">\n    <path d=\"M 82.725 28.576219 \nL 82.725 10.720219 \n\" style=\"fill:none;stroke:#000000;stroke-linecap:square;stroke-linejoin:miter;stroke-width:0.8;\"/>\n   </g>\n   <g id=\"patch_5\">\n    <path d=\"M 26.925 28.576219 \nL 82.725 28.576219 \n\" style=\"fill:none;stroke:#000000;stroke-linecap:square;stroke-linejoin:miter;stroke-width:0.8;\"/>\n   </g>\n   <g id=\"patch_6\">\n    <path d=\"M 26.925 10.720219 \nL 82.725 10.720219 \n\" style=\"fill:none;stroke:#000000;stroke-linecap:square;stroke-linejoin:miter;stroke-width:0.8;\"/>\n   </g>\n  </g>\n </g>\n <defs>\n  <clipPath id=\"pf0ab5cb1f4\">\n   <rect height=\"17.856\" width=\"55.8\" x=\"26.925\" y=\"10.720219\"/>\n  </clipPath>\n </defs>\n</svg>\n",
      "image/png": "[encoded data removed]"
     },
     "metadata": {
      "needs_background": "light"
     }
    }
   ],
   "metadata": {}
  },
  {
   "cell_type": "code",
   "execution_count": 7,
   "source": [
    "checkpoint = torch.load('./model/state_crnn_big.pth')\n",
    "model.load_state_dict(checkpoint['model_state_dict'])\n",
    "model.to('cuda')\n",
    "\n",
    "model.eval()\n",
    "torch.no_grad()"
   ],
   "outputs": [
    {
     "output_type": "execute_result",
     "data": {
      "text/plain": [
       "<torch.autograd.grad_mode.no_grad at 0x7ffad6fd99d0>"
      ]
     },
     "metadata": {},
     "execution_count": 7
    }
   ],
   "metadata": {}
  },
  {
   "cell_type": "code",
   "execution_count": 15,
   "source": [
    "result = model(x.to('cuda'))\n",
    "result.shape"
   ],
   "outputs": [
    {
     "output_type": "execute_result",
     "data": {
      "text/plain": [
       "torch.Size([10, 32, 1016])"
      ]
     },
     "metadata": {},
     "execution_count": 15
    }
   ],
   "metadata": {}
  },
  {
   "cell_type": "code",
   "execution_count": 16,
   "source": [
    "tokenizer.untokenize(result.permute(1,0,2)[0])"
   ],
   "outputs": [
    {
     "output_type": "execute_result",
     "data": {
      "text/plain": [
       "'<UNK>'"
      ]
     },
     "metadata": {},
     "execution_count": 16
    }
   ],
   "metadata": {}
  },
  {
   "cell_type": "code",
   "execution_count": null,
   "source": [
    "싫"
   ],
   "outputs": [],
   "metadata": {}
  }
 ],
 "metadata": {
  "orig_nbformat": 4,
  "language_info": {
   "name": "python",
   "version": "3.7.11",
   "mimetype": "text/x-python",
   "codemirror_mode": {
    "name": "ipython",
    "version": 3
   },
   "pygments_lexer": "ipython3",
   "nbconvert_exporter": "python",
   "file_extension": ".py"
  },
  "kernelspec": {
   "name": "python3",
   "display_name": "Python 3.7.11 64-bit ('soma-recognition-new': conda)"
  },
  "interpreter": {
   "hash": "d2be4ac5b3b89d3f66e21eb17e710f24c12a1c85aba19471eb29ac484714b9dd"
  }
 },
 "nbformat": 4,
 "nbformat_minor": 2
}