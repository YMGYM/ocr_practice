{
 "cells": [
  {
   "cell_type": "code",
   "execution_count": 1,
   "source": [
    "import sys, os\n",
    "import torch\n",
    "from PIL import Image\n",
    "import numpy as np\n",
    "import matplotlib.pyplot as plt\n",
    "\n",
    "from components.dataset import OcrDataset # OCR용 데이터셋\n",
    "from torch.utils.data import DataLoader # 멀티배치 학습을 위한 데이터로더\n",
    "from components.tokenizer import Tokenizer\n",
    "from components.trainer import Trainer\n",
    "from components.model import Model\n",
    "\n",
    "import torch.optim as optim\n",
    "import torch.nn as nn"
   ],
   "outputs": [],
   "metadata": {}
  },
  {
   "cell_type": "code",
   "execution_count": 2,
   "source": [
    "base_dir = '../soma/font/dataset/'\n",
    "train_dir = base_dir + 'train/'\n",
    "val_dir = base_dir + 'val/'"
   ],
   "outputs": [],
   "metadata": {}
  },
  {
   "cell_type": "code",
   "execution_count": 3,
   "source": [
    "train_ocr = OcrDataset(train_dir, is_val=False)\n",
    "train_dataset = DataLoader(train_ocr, batch_size=32, shuffle=True)\n",
    "\n",
    "val_ocr = OcrDataset(val_dir, is_val=True)\n",
    "val_dataset = DataLoader(val_ocr, batch_size=32, shuffle=True)"
   ],
   "outputs": [],
   "metadata": {}
  },
  {
   "cell_type": "code",
   "execution_count": 4,
   "source": [
    "tokenizer = Tokenizer(seq_len=10, one_hot=False)\n",
    "model = Model(tokenizer)\n",
    "PAD_IDX = tokenizer.word2id['<PAD>']\n",
    "criterion = nn.CrossEntropyLoss(ignore_index = PAD_IDX)\n",
    "optimizer = optim.Adam # 클래스 정보만 넘겨줌"
   ],
   "outputs": [],
   "metadata": {}
  },
  {
   "cell_type": "code",
   "execution_count": 5,
   "source": [
    "trainer = Trainer(model, train_dataset, val_dataset, criterion, optimizer, tokenizer )\n",
    "\n",
    "trainer"
   ],
   "outputs": [
    {
     "output_type": "execute_result",
     "data": {
      "text/plain": [
       "model: Model(\n",
       "  (encoder): Encoder(\n",
       "    (conv1): Conv2d(1, 64, kernel_size=(4, 4), stride=(1, 1))\n",
       "    (pool): MaxPool2d(kernel_size=2, stride=2, padding=0, dilation=1, ceil_mode=False)\n",
       "    (drop1): Dropout(p=0.5, inplace=False)\n",
       "    (conv2): Conv2d(64, 16, kernel_size=(4, 4), stride=(1, 1))\n",
       "    (drop2): Dropout(p=0.5, inplace=False)\n",
       "    (fc): Linear(in_features=1760, out_features=128, bias=True)\n",
       "  )\n",
       "  (decoder): Decoder(\n",
       "    (embedding): Embedding(1017, 256)\n",
       "    (dropout): Dropout(p=0.5, inplace=False)\n",
       "    (rnn): GRU(256, 128)\n",
       "    (fc_out): Linear(in_features=128, out_features=1017, bias=True)\n",
       "  )\n",
       ")\n",
       "criterion: CrossEntropyLoss()\n",
       "optimizer : Adam (\n",
       "Parameter Group 0\n",
       "    amsgrad: False\n",
       "    betas: (0.9, 0.999)\n",
       "    eps: 1e-08\n",
       "    lr: 0.001\n",
       "    weight_decay: 0\n",
       ")"
      ]
     },
     "metadata": {},
     "execution_count": 5
    }
   ],
   "metadata": {}
  },
  {
   "cell_type": "code",
   "execution_count": 12,
   "source": [
    "for x, y in train_dataset:\n",
    "    plt.figure(figsize=(1,1))\n",
    "    plt.imshow(x[0].squeeze(0), cmap=\"gray\")\n",
    "    plt.show()\n",
    "    break"
   ],
   "outputs": [
    {
     "output_type": "display_data",
     "data": {
      "text/plain": [
       "<Figure size 72x72 with 1 Axes>"
      ],
      "image/png": "[encoded data removed]"
     },
     "metadata": {
      "needs_background": "light"
     }
    }
   ],
   "metadata": {}
  },
  {
   "cell_type": "code",
   "execution_count": null,
   "source": [],
   "outputs": [],
   "metadata": {}
  }
 ],
 "metadata": {
  "orig_nbformat": 4,
  "language_info": {
   "name": "python",
   "version": "3.7.11",
   "mimetype": "text/x-python",
   "codemirror_mode": {
    "name": "ipython",
    "version": 3
   },
   "pygments_lexer": "ipython3",
   "nbconvert_exporter": "python",
   "file_extension": ".py"
  },
  "kernelspec": {
   "name": "python3",
   "display_name": "Python 3.7.11 64-bit ('soma-recognition-new': conda)"
  },
  "interpreter": {
   "hash": "d2be4ac5b3b89d3f66e21eb17e710f24c12a1c85aba19471eb29ac484714b9dd"
  }
 },
 "nbformat": 4,
 "nbformat_minor": 2
}