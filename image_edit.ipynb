{
 "cells": [
  {
   "cell_type": "markdown",
   "metadata": {},
   "source": [
    "# 이미지 바운딩 박스 편집"
   ]
  },
  {
   "cell_type": "code",
   "execution_count": 141,
   "metadata": {},
   "outputs": [],
   "source": [
    "from PIL import Image\n",
    "import numpy as np\n",
    "import pandas as pd\n",
    "import matplotlib.pyplot as plt\n",
    "import os\n",
    "import cv2"
   ]
  },
  {
   "cell_type": "code",
   "execution_count": 2,
   "metadata": {},
   "outputs": [],
   "source": [
    "from predict import *\n",
    "\n",
    "\n",
    "import torch.optim as optim\n",
    "import torch.nn as nn"
   ]
  },
  {
   "cell_type": "code",
   "execution_count": 159,
   "metadata": {},
   "outputs": [
    {
     "data": {
      "image/png": "[encoded data removed]",
      "text/plain": [
       "<PIL.JpegImagePlugin.JpegImageFile image mode=RGB size=147x52 at 0x7FDBA59CBC10>"
      ]
     },
     "execution_count": 159,
     "metadata": {},
     "output_type": "execute_result"
    }
   ],
   "source": [
    "img = Image.open(\"/home/jun/myWorks/soma/font/dataset/realTesting/곤충들이_158.jpg\")\n",
    "img_np = np.array(img)\n",
    "img"
   ]
  },
  {
   "cell_type": "code",
   "execution_count": 108,
   "metadata": {},
   "outputs": [
    {
     "data": {
      "image/png": "[encoded data removed]",
      "text/plain": [
       "<PIL.JpegImagePlugin.JpegImageFile image mode=RGB size=103x38 at 0x7FDD1802B750>"
      ]
     },
     "execution_count": 108,
     "metadata": {},
     "output_type": "execute_result"
    }
   ],
   "source": [
    "mask = Image.open(\"/home/jun/myWorks/soma/font/dataset/realTesting_crop/aaa_38.jpg\")\n",
    "mask_np = np.array(mask)\n",
    "mask"
   ]
  },
  {
   "cell_type": "code",
   "execution_count": 113,
   "metadata": {},
   "outputs": [],
   "source": [
    "gray = cv.cvtColor(img_np, cv.COLOR_BGR2GRAY)\n",
    "dst = cv.Canny(gray, 224, 255)\n",
    "inv_img = 255 - dst\n",
    "aa = cv.floodFill(inv_img, None, (0,0), (255, 0, 0), loDiff=(0, 0, 0, 0), upDiff=(0, 0, 0, 0))\n"
   ]
  },
  {
   "cell_type": "code",
   "execution_count": 116,
   "metadata": {},
   "outputs": [
    {
     "data": {
      "image/png": "[encoded data removed]",
      "text/plain": [
       "<PIL.Image.Image image mode=L size=74x26 at 0x7FDBA5A8AE10>"
      ]
     },
     "execution_count": 116,
     "metadata": {},
     "output_type": "execute_result"
    }
   ],
   "source": [
    "Image.fromarray(dst)"
   ]
  },
  {
   "cell_type": "code",
   "execution_count": 114,
   "metadata": {},
   "outputs": [
    {
     "data": {
      "image/png": "[encoded data removed]",
      "text/plain": [
       "<PIL.Image.Image image mode=L size=74x26 at 0x7FDBA5AF2C10>"
      ]
     },
     "execution_count": 114,
     "metadata": {},
     "output_type": "execute_result"
    }
   ],
   "source": [
    "Image.fromarray(inv_img)"
   ]
  },
  {
   "cell_type": "code",
   "execution_count": 133,
   "metadata": {},
   "outputs": [],
   "source": [
    "grabMask = np.zeros_like(img_np)\n",
    "bgdmodel = np.zeros((1,65),np.float64)\n",
    "fgdmodel = np.zeros((1,65),np.float64)\n",
    "rect = (0,0, *img_np.shape[:2])"
   ]
  },
  {
   "cell_type": "code",
   "execution_count": 134,
   "metadata": {},
   "outputs": [
    {
     "data": {
      "text/plain": [
       "(array([[3, 3, 3, ..., 0, 0, 0],\n",
       "        [3, 3, 3, ..., 0, 0, 0],\n",
       "        [3, 3, 3, ..., 0, 0, 0],\n",
       "        ...,\n",
       "        [3, 3, 3, ..., 0, 0, 0],\n",
       "        [3, 3, 3, ..., 0, 0, 0],\n",
       "        [3, 3, 3, ..., 0, 0, 0]], dtype=uint8),\n",
       " array([[ 2.06730769e-01,  5.42467949e-01,  6.57051282e-02,\n",
       "          9.53525641e-02,  8.97435897e-02,  2.41720930e+02,\n",
       "          2.51779070e+02,  2.53910853e+02,  5.85228951e+01,\n",
       "          7.91240768e+01,  1.08428360e+02,  1.59439024e+02,\n",
       "          1.70963415e+02,  1.83975610e+02,  2.05445378e+02,\n",
       "          2.19226891e+02,  2.32394958e+02,  9.34464286e+01,\n",
       "          1.10991071e+02,  1.28919643e+02,  4.93484767e+01,\n",
       "          1.56360195e+01,  1.11078060e+00,  1.56360195e+01,\n",
       "          1.74977015e+01,  3.75549847e+00,  1.11078060e+00,\n",
       "          3.75549847e+00,  6.77112253e+00,  6.25567136e+01,\n",
       "          2.49868195e+01, -5.66859614e+00,  2.49868195e+01,\n",
       "          3.58693908e+01,  2.97356244e+01, -5.66859614e+00,\n",
       "          2.97356244e+01,  1.38519609e+02,  2.70295062e+02,\n",
       "          1.71942891e+02,  8.05594884e+01,  1.71942891e+02,\n",
       "          1.65084027e+02,  1.35840571e+02,  8.05594884e+01,\n",
       "          1.35840571e+02,  2.15462820e+02,  1.44230210e+02,\n",
       "          1.17915755e+02,  1.15647624e+02,  1.17915755e+02,\n",
       "          1.19872890e+02,  1.28675094e+02,  1.15647624e+02,\n",
       "          1.28675094e+02,  1.90373420e+02,  1.89032844e+02,\n",
       "          1.42280772e+02,  7.80983737e+01,  1.42280772e+02,\n",
       "          1.30276706e+02,  8.75974968e+01,  7.80983737e+01,\n",
       "          8.75974968e+01,  1.13841757e+02]]),\n",
       " array([[2.48520710e-01, 5.59171598e-01, 5.47337278e-02, 1.05029586e-01,\n",
       "         3.25443787e-02, 2.37535714e+02, 2.51839286e+02, 2.49107143e+02,\n",
       "         6.01455026e+01, 7.54735450e+01, 1.06015873e+02, 1.44783784e+02,\n",
       "         1.58918919e+02, 1.74540541e+02, 9.97042254e+01, 1.15971831e+02,\n",
       "         1.29084507e+02, 1.81863636e+02, 1.94363636e+02, 1.98545455e+02,\n",
       "         5.99153912e+01, 3.68658588e+01, 3.11033163e+01, 3.68658588e+01,\n",
       "         3.19920281e+01, 2.19041241e+01, 3.11033163e+01, 2.19041241e+01,\n",
       "         4.42266156e+01, 4.47275062e+01, 2.61665477e+01, 2.70982195e+01,\n",
       "         2.61665477e+01, 3.72757552e+01, 1.85586210e+01, 2.70982195e+01,\n",
       "         1.85586210e+01, 1.56978584e+02, 3.64937911e+01, 3.14149014e+01,\n",
       "         2.61979547e+01, 3.14149014e+01, 4.32636961e+01, 2.63951790e+01,\n",
       "         2.61979547e+01, 2.63951790e+01, 1.11924032e+02, 3.42364610e+01,\n",
       "         4.33578655e+01, 3.44475303e+01, 4.33578655e+01, 6.37175164e+01,\n",
       "         3.37629439e+01, 3.44475303e+01, 3.37629439e+01, 1.36556239e+02,\n",
       "         8.00268595e+01, 7.86859504e+01, 1.75743802e+01, 7.86859504e+01,\n",
       "         9.79586777e+01, 1.55289256e+01, 1.75743802e+01, 1.55289256e+01,\n",
       "         8.18842975e+01]]))"
      ]
     },
     "execution_count": 134,
     "metadata": {},
     "output_type": "execute_result"
    }
   ],
   "source": [
    "cv.grabCut(img_np, grabMask, rect, bgdmodel, fgdmodel, 1, cv.GC_INIT_WITH_RECT)"
   ]
  },
  {
   "cell_type": "code",
   "execution_count": 139,
   "metadata": {},
   "outputs": [],
   "source": [
    "img2 = img_np.copy()\n",
    "# 마스크에 확실한 배경, 아마도 배경으로 표시된 영역을 0으로 채우기\n",
    "img2[(grabMask==cv.GC_BGD) | (grabMask==cv.GC_PR_BGD)] = 0"
   ]
  },
  {
   "cell_type": "code",
   "execution_count": 140,
   "metadata": {},
   "outputs": [
    {
     "data": {
      "image/png": "[encoded data removed]",
      "text/plain": [
       "<PIL.Image.Image image mode=RGB size=74x26 at 0x7FDBA5A6F110>"
      ]
     },
     "execution_count": 140,
     "metadata": {},
     "output_type": "execute_result"
    }
   ],
   "source": [
    "Image.fromarray(img2)"
   ]
  },
  {
   "cell_type": "code",
   "execution_count": 84,
   "metadata": {},
   "outputs": [
    {
     "data": {
      "text/plain": [
       "['출록']"
      ]
     },
     "execution_count": 84,
     "metadata": {},
     "output_type": "execute_result"
    }
   ],
   "source": [
    "crnn_predict([dst])"
   ]
  },
  {
   "cell_type": "code",
   "execution_count": null,
   "metadata": {},
   "outputs": [],
   "source": [
    "unique, counts = np.unique(img_np.reshape(-1, 3), axis=0, return_counts=True) # 이미지 픽셀별로 색 빈도 생성\n",
    "r, g, b = unique[np.argsort(counts)[::-1][1]] #가장 많이 나타나는 r, g, b 값을 받아 옵니다."
   ]
  },
  {
   "cell_type": "code",
   "execution_count": 167,
   "metadata": {},
   "outputs": [],
   "source": [
    "gray = cv2.cvtColor(img_np, cv2.COLOR_BGR2GRAY)\n",
    "gray = 255-gray\n",
    "# threshold\n",
    "thresh = cv2.threshold(gray, 128, 255, cv2.THRESH_BINARY)[1]\n",
    "\n",
    "# get the (largest) contour\n",
    "contours = cv2.findContours(thresh, cv2.RETR_EXTERNAL, cv2.CHAIN_APPROX_SIMPLE)\n",
    "contours = contours[0] if len(contours) == 2 else contours[1]\n",
    "\n",
    "# draw white filled contour on black background\n",
    "img2 = np.full_like(img_np, 255, np.uint8)\n",
    "_ = cv2.drawContours(img2, contours, 0, (0,0,0), cv2.FILLED)"
   ]
  },
  {
   "cell_type": "code",
   "execution_count": 170,
   "metadata": {},
   "outputs": [
    {
     "ename": "AttributeError",
     "evalue": "'list' object has no attribute '__array_interface__'",
     "output_type": "error",
     "traceback": [
      "\u001b[0;31m---------------------------------------------------------------------------\u001b[0m",
      "\u001b[0;31mAttributeError\u001b[0m                            Traceback (most recent call last)",
      "\u001b[0;32m<ipython-input-170-84e188c70290>\u001b[0m in \u001b[0;36m<module>\u001b[0;34m\u001b[0m\n\u001b[0;32m----> 1\u001b[0;31m \u001b[0mImage\u001b[0m\u001b[0;34m.\u001b[0m\u001b[0mfromarray\u001b[0m\u001b[0;34m(\u001b[0m\u001b[0mcontours\u001b[0m\u001b[0;34m)\u001b[0m\u001b[0;34m\u001b[0m\u001b[0;34m\u001b[0m\u001b[0m\n\u001b[0m",
      "\u001b[0;32m~/anaconda3/envs/soma-ai_serv/lib/python3.7/site-packages/PIL/Image.py\u001b[0m in \u001b[0;36mfromarray\u001b[0;34m(obj, mode)\u001b[0m\n\u001b[1;32m   2816\u001b[0m     \u001b[0;34m.\u001b[0m\u001b[0;34m.\u001b[0m \u001b[0mversionadded\u001b[0m\u001b[0;34m:\u001b[0m\u001b[0;34m:\u001b[0m \u001b[0;36m1.1\u001b[0m\u001b[0;36m.6\u001b[0m\u001b[0;34m\u001b[0m\u001b[0;34m\u001b[0m\u001b[0m\n\u001b[1;32m   2817\u001b[0m     \"\"\"\n\u001b[0;32m-> 2818\u001b[0;31m     \u001b[0marr\u001b[0m \u001b[0;34m=\u001b[0m \u001b[0mobj\u001b[0m\u001b[0;34m.\u001b[0m\u001b[0m__array_interface__\u001b[0m\u001b[0;34m\u001b[0m\u001b[0;34m\u001b[0m\u001b[0m\n\u001b[0m\u001b[1;32m   2819\u001b[0m     \u001b[0mshape\u001b[0m \u001b[0;34m=\u001b[0m \u001b[0marr\u001b[0m\u001b[0;34m[\u001b[0m\u001b[0;34m\"shape\"\u001b[0m\u001b[0;34m]\u001b[0m\u001b[0;34m\u001b[0m\u001b[0;34m\u001b[0m\u001b[0m\n\u001b[1;32m   2820\u001b[0m     \u001b[0mndim\u001b[0m \u001b[0;34m=\u001b[0m \u001b[0mlen\u001b[0m\u001b[0;34m(\u001b[0m\u001b[0mshape\u001b[0m\u001b[0;34m)\u001b[0m\u001b[0;34m\u001b[0m\u001b[0;34m\u001b[0m\u001b[0m\n",
      "\u001b[0;31mAttributeError\u001b[0m: 'list' object has no attribute '__array_interface__'"
     ]
    }
   ],
   "source": [
    "Image.fromarray(gray)"
   ]
  },
  {
   "cell_type": "code",
   "execution_count": 162,
   "metadata": {},
   "outputs": [
    {
     "data": {
      "text/plain": [
       "['1']"
      ]
     },
     "execution_count": 162,
     "metadata": {},
     "output_type": "execute_result"
    }
   ],
   "source": [
    "crnn_predict([img2])"
   ]
  },
  {
   "cell_type": "code",
   "execution_count": null,
   "metadata": {},
   "outputs": [],
   "source": []
  }
 ],
 "metadata": {
  "interpreter": {
   "hash": "119d5eed47915ec96be394caf671d9301316ee2bd77619fc02551e738eec41ab"
  },
  "kernelspec": {
   "display_name": "Python 3.7.10 64-bit ('soma-ai_serv': conda)",
   "name": "python3"
  },
  "language_info": {
   "codemirror_mode": {
    "name": "ipython",
    "version": 3
   },
   "file_extension": ".py",
   "mimetype": "text/x-python",
   "name": "python",
   "nbconvert_exporter": "python",
   "pygments_lexer": "ipython3",
   "version": "3.7.10"
  },
  "orig_nbformat": 4
 },
 "nbformat": 4,
 "nbformat_minor": 2
}
